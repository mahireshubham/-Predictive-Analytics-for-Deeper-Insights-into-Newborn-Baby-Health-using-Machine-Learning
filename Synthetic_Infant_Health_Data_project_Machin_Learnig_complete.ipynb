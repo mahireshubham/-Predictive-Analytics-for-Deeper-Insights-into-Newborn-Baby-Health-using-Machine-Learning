{
 "cells": [
  {
   "cell_type": "markdown",
   "id": "03b07bb9",
   "metadata": {},
   "source": [
    "### Project On Machine Learnig "
   ]
  },
  {
   "cell_type": "code",
   "execution_count": 1,
   "id": "f0410f92",
   "metadata": {},
   "outputs": [],
   "source": [
    "#Dataset=Synthetic-Infant-Health-Data.csv"
   ]
  },
  {
   "cell_type": "markdown",
   "id": "9c5b9b55",
   "metadata": {},
   "source": [
    "#### Import The Libraries"
   ]
  },
  {
   "cell_type": "code",
   "execution_count": 19,
   "id": "5ca77bcb",
   "metadata": {},
   "outputs": [],
   "source": [
    "import pandas as pd\n",
    "import numpy as np\n",
    "import seaborn as sns \n",
    "import matplotlib.pyplot as plt"
   ]
  },
  {
   "cell_type": "markdown",
   "id": "9200c7e0",
   "metadata": {},
   "source": [
    "#### Import data"
   ]
  },
  {
   "cell_type": "code",
   "execution_count": 20,
   "id": "39242fc2",
   "metadata": {},
   "outputs": [],
   "source": [
    "df=pd.read_csv('Synthetic-Infant-Health-Data.csv')"
   ]
  },
  {
   "cell_type": "code",
   "execution_count": 21,
   "id": "0b870f1c",
   "metadata": {},
   "outputs": [
    {
     "data": {
      "text/html": [
       "<div>\n",
       "<style scoped>\n",
       "    .dataframe tbody tr th:only-of-type {\n",
       "        vertical-align: middle;\n",
       "    }\n",
       "\n",
       "    .dataframe tbody tr th {\n",
       "        vertical-align: top;\n",
       "    }\n",
       "\n",
       "    .dataframe thead th {\n",
       "        text-align: right;\n",
       "    }\n",
       "</style>\n",
       "<table border=\"1\" class=\"dataframe\">\n",
       "  <thead>\n",
       "    <tr style=\"text-align: right;\">\n",
       "      <th></th>\n",
       "      <th>Unnamed: 0</th>\n",
       "      <th>BirthAsphyxia</th>\n",
       "      <th>HypDistrib</th>\n",
       "      <th>HypoxiaInO2</th>\n",
       "      <th>CO2</th>\n",
       "      <th>ChestXray</th>\n",
       "      <th>Grunting</th>\n",
       "      <th>LVHreport</th>\n",
       "      <th>LowerBodyO2</th>\n",
       "      <th>RUQO2</th>\n",
       "      <th>...</th>\n",
       "      <th>XrayReport</th>\n",
       "      <th>Disease</th>\n",
       "      <th>GruntingReport</th>\n",
       "      <th>Age</th>\n",
       "      <th>LVH</th>\n",
       "      <th>DuctFlow</th>\n",
       "      <th>CardiacMixing</th>\n",
       "      <th>LungParench</th>\n",
       "      <th>LungFlow</th>\n",
       "      <th>Sick</th>\n",
       "    </tr>\n",
       "  </thead>\n",
       "  <tbody>\n",
       "    <tr>\n",
       "      <th>0</th>\n",
       "      <td>0</td>\n",
       "      <td>no</td>\n",
       "      <td>Equal</td>\n",
       "      <td>Severe</td>\n",
       "      <td>Normal</td>\n",
       "      <td>Normal</td>\n",
       "      <td>yes</td>\n",
       "      <td>no</td>\n",
       "      <td>5-12</td>\n",
       "      <td>&lt;5</td>\n",
       "      <td>...</td>\n",
       "      <td>Asy/Patchy</td>\n",
       "      <td>TGA</td>\n",
       "      <td>no</td>\n",
       "      <td>4-10_days</td>\n",
       "      <td>no</td>\n",
       "      <td>Lt_to_Rt</td>\n",
       "      <td>Transp.</td>\n",
       "      <td>Normal</td>\n",
       "      <td>Normal</td>\n",
       "      <td>no</td>\n",
       "    </tr>\n",
       "    <tr>\n",
       "      <th>1</th>\n",
       "      <td>1</td>\n",
       "      <td>no</td>\n",
       "      <td>Equal</td>\n",
       "      <td>Moderate</td>\n",
       "      <td>High</td>\n",
       "      <td>Grd_Glass</td>\n",
       "      <td>no</td>\n",
       "      <td>no</td>\n",
       "      <td>&lt;5</td>\n",
       "      <td>5-12</td>\n",
       "      <td>...</td>\n",
       "      <td>Grd_Glass</td>\n",
       "      <td>Fallot</td>\n",
       "      <td>no</td>\n",
       "      <td>0-3_days</td>\n",
       "      <td>no</td>\n",
       "      <td>Rt_to_Lt</td>\n",
       "      <td>Mild</td>\n",
       "      <td>Abnormal</td>\n",
       "      <td>High</td>\n",
       "      <td>no</td>\n",
       "    </tr>\n",
       "    <tr>\n",
       "      <th>2</th>\n",
       "      <td>2</td>\n",
       "      <td>no</td>\n",
       "      <td>Equal</td>\n",
       "      <td>Severe</td>\n",
       "      <td>Normal</td>\n",
       "      <td>Plethoric</td>\n",
       "      <td>no</td>\n",
       "      <td>yes</td>\n",
       "      <td>5-12</td>\n",
       "      <td>5-12</td>\n",
       "      <td>...</td>\n",
       "      <td>Normal</td>\n",
       "      <td>PFC</td>\n",
       "      <td>no</td>\n",
       "      <td>0-3_days</td>\n",
       "      <td>no</td>\n",
       "      <td>Lt_to_Rt</td>\n",
       "      <td>Complete</td>\n",
       "      <td>Normal</td>\n",
       "      <td>High</td>\n",
       "      <td>no</td>\n",
       "    </tr>\n",
       "    <tr>\n",
       "      <th>3</th>\n",
       "      <td>3</td>\n",
       "      <td>no</td>\n",
       "      <td>Equal</td>\n",
       "      <td>Moderate</td>\n",
       "      <td>Normal</td>\n",
       "      <td>Plethoric</td>\n",
       "      <td>no</td>\n",
       "      <td>no</td>\n",
       "      <td>5-12</td>\n",
       "      <td>&lt;5</td>\n",
       "      <td>...</td>\n",
       "      <td>Plethoric</td>\n",
       "      <td>PAIVS</td>\n",
       "      <td>no</td>\n",
       "      <td>0-3_days</td>\n",
       "      <td>no</td>\n",
       "      <td>None</td>\n",
       "      <td>Complete</td>\n",
       "      <td>Normal</td>\n",
       "      <td>Low</td>\n",
       "      <td>no</td>\n",
       "    </tr>\n",
       "    <tr>\n",
       "      <th>4</th>\n",
       "      <td>4</td>\n",
       "      <td>no</td>\n",
       "      <td>Equal</td>\n",
       "      <td>Moderate</td>\n",
       "      <td>Normal</td>\n",
       "      <td>Plethoric</td>\n",
       "      <td>no</td>\n",
       "      <td>yes</td>\n",
       "      <td>12+</td>\n",
       "      <td>5-12</td>\n",
       "      <td>...</td>\n",
       "      <td>Plethoric</td>\n",
       "      <td>PAIVS</td>\n",
       "      <td>no</td>\n",
       "      <td>0-3_days</td>\n",
       "      <td>yes</td>\n",
       "      <td>Lt_to_Rt</td>\n",
       "      <td>Complete</td>\n",
       "      <td>Normal</td>\n",
       "      <td>Normal</td>\n",
       "      <td>yes</td>\n",
       "    </tr>\n",
       "    <tr>\n",
       "      <th>...</th>\n",
       "      <td>...</td>\n",
       "      <td>...</td>\n",
       "      <td>...</td>\n",
       "      <td>...</td>\n",
       "      <td>...</td>\n",
       "      <td>...</td>\n",
       "      <td>...</td>\n",
       "      <td>...</td>\n",
       "      <td>...</td>\n",
       "      <td>...</td>\n",
       "      <td>...</td>\n",
       "      <td>...</td>\n",
       "      <td>...</td>\n",
       "      <td>...</td>\n",
       "      <td>...</td>\n",
       "      <td>...</td>\n",
       "      <td>...</td>\n",
       "      <td>...</td>\n",
       "      <td>...</td>\n",
       "      <td>...</td>\n",
       "      <td>...</td>\n",
       "    </tr>\n",
       "    <tr>\n",
       "      <th>14995</th>\n",
       "      <td>14995</td>\n",
       "      <td>no</td>\n",
       "      <td>Equal</td>\n",
       "      <td>Moderate</td>\n",
       "      <td>Normal</td>\n",
       "      <td>Normal</td>\n",
       "      <td>no</td>\n",
       "      <td>no</td>\n",
       "      <td>5-12</td>\n",
       "      <td>5-12</td>\n",
       "      <td>...</td>\n",
       "      <td>Normal</td>\n",
       "      <td>PAIVS</td>\n",
       "      <td>no</td>\n",
       "      <td>0-3_days</td>\n",
       "      <td>no</td>\n",
       "      <td>Lt_to_Rt</td>\n",
       "      <td>Transp.</td>\n",
       "      <td>Normal</td>\n",
       "      <td>Normal</td>\n",
       "      <td>no</td>\n",
       "    </tr>\n",
       "    <tr>\n",
       "      <th>14996</th>\n",
       "      <td>14996</td>\n",
       "      <td>no</td>\n",
       "      <td>Equal</td>\n",
       "      <td>Moderate</td>\n",
       "      <td>Normal</td>\n",
       "      <td>Plethoric</td>\n",
       "      <td>no</td>\n",
       "      <td>yes</td>\n",
       "      <td>&lt;5</td>\n",
       "      <td>5-12</td>\n",
       "      <td>...</td>\n",
       "      <td>Plethoric</td>\n",
       "      <td>Fallot</td>\n",
       "      <td>no</td>\n",
       "      <td>0-3_days</td>\n",
       "      <td>yes</td>\n",
       "      <td>Lt_to_Rt</td>\n",
       "      <td>Complete</td>\n",
       "      <td>Abnormal</td>\n",
       "      <td>High</td>\n",
       "      <td>yes</td>\n",
       "    </tr>\n",
       "    <tr>\n",
       "      <th>14997</th>\n",
       "      <td>14997</td>\n",
       "      <td>no</td>\n",
       "      <td>Equal</td>\n",
       "      <td>Moderate</td>\n",
       "      <td>High</td>\n",
       "      <td>Normal</td>\n",
       "      <td>no</td>\n",
       "      <td>no</td>\n",
       "      <td>5-12</td>\n",
       "      <td>&lt;5</td>\n",
       "      <td>...</td>\n",
       "      <td>Normal</td>\n",
       "      <td>Fallot</td>\n",
       "      <td>yes</td>\n",
       "      <td>0-3_days</td>\n",
       "      <td>no</td>\n",
       "      <td>None</td>\n",
       "      <td>Complete</td>\n",
       "      <td>Normal</td>\n",
       "      <td>High</td>\n",
       "      <td>yes</td>\n",
       "    </tr>\n",
       "    <tr>\n",
       "      <th>14998</th>\n",
       "      <td>14998</td>\n",
       "      <td>no</td>\n",
       "      <td>Equal</td>\n",
       "      <td>Mild</td>\n",
       "      <td>Normal</td>\n",
       "      <td>Normal</td>\n",
       "      <td>no</td>\n",
       "      <td>no</td>\n",
       "      <td>&lt;5</td>\n",
       "      <td>&lt;5</td>\n",
       "      <td>...</td>\n",
       "      <td>Normal</td>\n",
       "      <td>TGA</td>\n",
       "      <td>no</td>\n",
       "      <td>0-3_days</td>\n",
       "      <td>no</td>\n",
       "      <td>None</td>\n",
       "      <td>Transp.</td>\n",
       "      <td>Normal</td>\n",
       "      <td>High</td>\n",
       "      <td>no</td>\n",
       "    </tr>\n",
       "    <tr>\n",
       "      <th>14999</th>\n",
       "      <td>14999</td>\n",
       "      <td>no</td>\n",
       "      <td>Equal</td>\n",
       "      <td>Severe</td>\n",
       "      <td>High</td>\n",
       "      <td>Normal</td>\n",
       "      <td>no</td>\n",
       "      <td>no</td>\n",
       "      <td>&lt;5</td>\n",
       "      <td>5-12</td>\n",
       "      <td>...</td>\n",
       "      <td>Normal</td>\n",
       "      <td>TGA</td>\n",
       "      <td>no</td>\n",
       "      <td>0-3_days</td>\n",
       "      <td>no</td>\n",
       "      <td>None</td>\n",
       "      <td>Mild</td>\n",
       "      <td>Normal</td>\n",
       "      <td>Normal</td>\n",
       "      <td>no</td>\n",
       "    </tr>\n",
       "  </tbody>\n",
       "</table>\n",
       "<p>15000 rows × 21 columns</p>\n",
       "</div>"
      ],
      "text/plain": [
       "       Unnamed: 0 BirthAsphyxia HypDistrib HypoxiaInO2     CO2  ChestXray  \\\n",
       "0               0            no      Equal      Severe  Normal     Normal   \n",
       "1               1            no      Equal    Moderate    High  Grd_Glass   \n",
       "2               2            no      Equal      Severe  Normal  Plethoric   \n",
       "3               3            no      Equal    Moderate  Normal  Plethoric   \n",
       "4               4            no      Equal    Moderate  Normal  Plethoric   \n",
       "...           ...           ...        ...         ...     ...        ...   \n",
       "14995       14995            no      Equal    Moderate  Normal     Normal   \n",
       "14996       14996            no      Equal    Moderate  Normal  Plethoric   \n",
       "14997       14997            no      Equal    Moderate    High     Normal   \n",
       "14998       14998            no      Equal        Mild  Normal     Normal   \n",
       "14999       14999            no      Equal      Severe    High     Normal   \n",
       "\n",
       "      Grunting LVHreport LowerBodyO2 RUQO2  ...  XrayReport Disease  \\\n",
       "0          yes        no        5-12    <5  ...  Asy/Patchy     TGA   \n",
       "1           no        no          <5  5-12  ...   Grd_Glass  Fallot   \n",
       "2           no       yes        5-12  5-12  ...      Normal     PFC   \n",
       "3           no        no        5-12    <5  ...   Plethoric   PAIVS   \n",
       "4           no       yes         12+  5-12  ...   Plethoric   PAIVS   \n",
       "...        ...       ...         ...   ...  ...         ...     ...   \n",
       "14995       no        no        5-12  5-12  ...      Normal   PAIVS   \n",
       "14996       no       yes          <5  5-12  ...   Plethoric  Fallot   \n",
       "14997       no        no        5-12    <5  ...      Normal  Fallot   \n",
       "14998       no        no          <5    <5  ...      Normal     TGA   \n",
       "14999       no        no          <5  5-12  ...      Normal     TGA   \n",
       "\n",
       "      GruntingReport        Age  LVH  DuctFlow CardiacMixing LungParench  \\\n",
       "0                 no  4-10_days   no  Lt_to_Rt       Transp.      Normal   \n",
       "1                 no   0-3_days   no  Rt_to_Lt          Mild    Abnormal   \n",
       "2                 no   0-3_days   no  Lt_to_Rt      Complete      Normal   \n",
       "3                 no   0-3_days   no      None      Complete      Normal   \n",
       "4                 no   0-3_days  yes  Lt_to_Rt      Complete      Normal   \n",
       "...              ...        ...  ...       ...           ...         ...   \n",
       "14995             no   0-3_days   no  Lt_to_Rt       Transp.      Normal   \n",
       "14996             no   0-3_days  yes  Lt_to_Rt      Complete    Abnormal   \n",
       "14997            yes   0-3_days   no      None      Complete      Normal   \n",
       "14998             no   0-3_days   no      None       Transp.      Normal   \n",
       "14999             no   0-3_days   no      None          Mild      Normal   \n",
       "\n",
       "      LungFlow Sick  \n",
       "0       Normal   no  \n",
       "1         High   no  \n",
       "2         High   no  \n",
       "3          Low   no  \n",
       "4       Normal  yes  \n",
       "...        ...  ...  \n",
       "14995   Normal   no  \n",
       "14996     High  yes  \n",
       "14997     High  yes  \n",
       "14998     High   no  \n",
       "14999   Normal   no  \n",
       "\n",
       "[15000 rows x 21 columns]"
      ]
     },
     "execution_count": 21,
     "metadata": {},
     "output_type": "execute_result"
    }
   ],
   "source": [
    "df"
   ]
  },
  {
   "cell_type": "code",
   "execution_count": 29,
   "id": "1bf34f4f",
   "metadata": {},
   "outputs": [
    {
     "data": {
      "text/plain": [
       "Index(['Unnamed: 0', 'BirthAsphyxia', 'HypDistrib', 'HypoxiaInO2', 'CO2',\n",
       "       'ChestXray', 'Grunting', 'LVHreport', 'LowerBodyO2', 'RUQO2',\n",
       "       'CO2Report', 'XrayReport', 'Disease', 'GruntingReport', 'Age', 'LVH',\n",
       "       'DuctFlow', 'CardiacMixing', 'LungParench', 'LungFlow', 'Sick'],\n",
       "      dtype='object')"
      ]
     },
     "execution_count": 29,
     "metadata": {},
     "output_type": "execute_result"
    }
   ],
   "source": [
    "df.columns"
   ]
  },
  {
   "cell_type": "code",
   "execution_count": 30,
   "id": "a9c401c4",
   "metadata": {},
   "outputs": [
    {
     "data": {
      "text/plain": [
       "(15000, 21)"
      ]
     },
     "execution_count": 30,
     "metadata": {},
     "output_type": "execute_result"
    }
   ],
   "source": [
    "df.shape"
   ]
  },
  {
   "cell_type": "code",
   "execution_count": 31,
   "id": "40e1a7a4",
   "metadata": {},
   "outputs": [],
   "source": [
    "# separate Input Output data\n",
    "x=df.drop('Sick',axis=1)\n",
    "y=df['Sick']"
   ]
  },
  {
   "cell_type": "code",
   "execution_count": 32,
   "id": "00a8ab32",
   "metadata": {},
   "outputs": [
    {
     "name": "stdout",
     "output_type": "stream",
     "text": [
      "<class 'pandas.core.frame.DataFrame'>\n",
      "RangeIndex: 15000 entries, 0 to 14999\n",
      "Data columns (total 20 columns):\n",
      " #   Column          Non-Null Count  Dtype \n",
      "---  ------          --------------  ----- \n",
      " 0   Unnamed: 0      15000 non-null  int64 \n",
      " 1   BirthAsphyxia   15000 non-null  object\n",
      " 2   HypDistrib      15000 non-null  object\n",
      " 3   HypoxiaInO2     15000 non-null  object\n",
      " 4   CO2             15000 non-null  object\n",
      " 5   ChestXray       15000 non-null  object\n",
      " 6   Grunting        15000 non-null  object\n",
      " 7   LVHreport       15000 non-null  object\n",
      " 8   LowerBodyO2     15000 non-null  object\n",
      " 9   RUQO2           15000 non-null  object\n",
      " 10  CO2Report       15000 non-null  object\n",
      " 11  XrayReport      15000 non-null  object\n",
      " 12  Disease         15000 non-null  object\n",
      " 13  GruntingReport  15000 non-null  object\n",
      " 14  Age             15000 non-null  object\n",
      " 15  LVH             15000 non-null  object\n",
      " 16  DuctFlow        15000 non-null  object\n",
      " 17  CardiacMixing   15000 non-null  object\n",
      " 18  LungParench     15000 non-null  object\n",
      " 19  LungFlow        15000 non-null  object\n",
      "dtypes: int64(1), object(19)\n",
      "memory usage: 2.3+ MB\n"
     ]
    }
   ],
   "source": [
    "x.info()"
   ]
  },
  {
   "cell_type": "code",
   "execution_count": 33,
   "id": "0275d522",
   "metadata": {},
   "outputs": [
    {
     "data": {
      "text/plain": [
       "<bound method Series.info of 0         no\n",
       "1         no\n",
       "2         no\n",
       "3         no\n",
       "4        yes\n",
       "        ... \n",
       "14995     no\n",
       "14996    yes\n",
       "14997    yes\n",
       "14998     no\n",
       "14999     no\n",
       "Name: Sick, Length: 15000, dtype: object>"
      ]
     },
     "execution_count": 33,
     "metadata": {},
     "output_type": "execute_result"
    }
   ],
   "source": [
    "y.info"
   ]
  },
  {
   "cell_type": "markdown",
   "id": "d61fab0c",
   "metadata": {},
   "source": [
    "#### Clean the data with removing missing values and outlier detection\n"
   ]
  },
  {
   "cell_type": "code",
   "execution_count": 34,
   "id": "87bcd7d1",
   "metadata": {},
   "outputs": [
    {
     "data": {
      "text/plain": [
       "Unnamed: 0        0\n",
       "BirthAsphyxia     0\n",
       "HypDistrib        0\n",
       "HypoxiaInO2       0\n",
       "CO2               0\n",
       "ChestXray         0\n",
       "Grunting          0\n",
       "LVHreport         0\n",
       "LowerBodyO2       0\n",
       "RUQO2             0\n",
       "CO2Report         0\n",
       "XrayReport        0\n",
       "Disease           0\n",
       "GruntingReport    0\n",
       "Age               0\n",
       "LVH               0\n",
       "DuctFlow          0\n",
       "CardiacMixing     0\n",
       "LungParench       0\n",
       "LungFlow          0\n",
       "dtype: int64"
      ]
     },
     "execution_count": 34,
     "metadata": {},
     "output_type": "execute_result"
    }
   ],
   "source": [
    "x.isnull().sum()"
   ]
  },
  {
   "cell_type": "code",
   "execution_count": 35,
   "id": "687ecc4f",
   "metadata": {},
   "outputs": [
    {
     "data": {
      "text/html": [
       "<div>\n",
       "<style scoped>\n",
       "    .dataframe tbody tr th:only-of-type {\n",
       "        vertical-align: middle;\n",
       "    }\n",
       "\n",
       "    .dataframe tbody tr th {\n",
       "        vertical-align: top;\n",
       "    }\n",
       "\n",
       "    .dataframe thead th {\n",
       "        text-align: right;\n",
       "    }\n",
       "</style>\n",
       "<table border=\"1\" class=\"dataframe\">\n",
       "  <thead>\n",
       "    <tr style=\"text-align: right;\">\n",
       "      <th></th>\n",
       "      <th>Unnamed: 0</th>\n",
       "      <th>BirthAsphyxia</th>\n",
       "      <th>HypDistrib</th>\n",
       "      <th>HypoxiaInO2</th>\n",
       "      <th>CO2</th>\n",
       "      <th>ChestXray</th>\n",
       "      <th>Grunting</th>\n",
       "      <th>LVHreport</th>\n",
       "      <th>LowerBodyO2</th>\n",
       "      <th>RUQO2</th>\n",
       "      <th>...</th>\n",
       "      <th>XrayReport</th>\n",
       "      <th>Disease</th>\n",
       "      <th>GruntingReport</th>\n",
       "      <th>Age</th>\n",
       "      <th>LVH</th>\n",
       "      <th>DuctFlow</th>\n",
       "      <th>CardiacMixing</th>\n",
       "      <th>LungParench</th>\n",
       "      <th>LungFlow</th>\n",
       "      <th>Sick</th>\n",
       "    </tr>\n",
       "  </thead>\n",
       "  <tbody>\n",
       "    <tr>\n",
       "      <th>0</th>\n",
       "      <td>0</td>\n",
       "      <td>no</td>\n",
       "      <td>Equal</td>\n",
       "      <td>Severe</td>\n",
       "      <td>Normal</td>\n",
       "      <td>Normal</td>\n",
       "      <td>yes</td>\n",
       "      <td>no</td>\n",
       "      <td>5-12</td>\n",
       "      <td>&lt;5</td>\n",
       "      <td>...</td>\n",
       "      <td>Asy/Patchy</td>\n",
       "      <td>TGA</td>\n",
       "      <td>no</td>\n",
       "      <td>4-10_days</td>\n",
       "      <td>no</td>\n",
       "      <td>Lt_to_Rt</td>\n",
       "      <td>Transp.</td>\n",
       "      <td>Normal</td>\n",
       "      <td>Normal</td>\n",
       "      <td>no</td>\n",
       "    </tr>\n",
       "    <tr>\n",
       "      <th>1</th>\n",
       "      <td>1</td>\n",
       "      <td>no</td>\n",
       "      <td>Equal</td>\n",
       "      <td>Moderate</td>\n",
       "      <td>High</td>\n",
       "      <td>Grd_Glass</td>\n",
       "      <td>no</td>\n",
       "      <td>no</td>\n",
       "      <td>&lt;5</td>\n",
       "      <td>5-12</td>\n",
       "      <td>...</td>\n",
       "      <td>Grd_Glass</td>\n",
       "      <td>Fallot</td>\n",
       "      <td>no</td>\n",
       "      <td>0-3_days</td>\n",
       "      <td>no</td>\n",
       "      <td>Rt_to_Lt</td>\n",
       "      <td>Mild</td>\n",
       "      <td>Abnormal</td>\n",
       "      <td>High</td>\n",
       "      <td>no</td>\n",
       "    </tr>\n",
       "    <tr>\n",
       "      <th>2</th>\n",
       "      <td>2</td>\n",
       "      <td>no</td>\n",
       "      <td>Equal</td>\n",
       "      <td>Severe</td>\n",
       "      <td>Normal</td>\n",
       "      <td>Plethoric</td>\n",
       "      <td>no</td>\n",
       "      <td>yes</td>\n",
       "      <td>5-12</td>\n",
       "      <td>5-12</td>\n",
       "      <td>...</td>\n",
       "      <td>Normal</td>\n",
       "      <td>PFC</td>\n",
       "      <td>no</td>\n",
       "      <td>0-3_days</td>\n",
       "      <td>no</td>\n",
       "      <td>Lt_to_Rt</td>\n",
       "      <td>Complete</td>\n",
       "      <td>Normal</td>\n",
       "      <td>High</td>\n",
       "      <td>no</td>\n",
       "    </tr>\n",
       "    <tr>\n",
       "      <th>3</th>\n",
       "      <td>3</td>\n",
       "      <td>no</td>\n",
       "      <td>Equal</td>\n",
       "      <td>Moderate</td>\n",
       "      <td>Normal</td>\n",
       "      <td>Plethoric</td>\n",
       "      <td>no</td>\n",
       "      <td>no</td>\n",
       "      <td>5-12</td>\n",
       "      <td>&lt;5</td>\n",
       "      <td>...</td>\n",
       "      <td>Plethoric</td>\n",
       "      <td>PAIVS</td>\n",
       "      <td>no</td>\n",
       "      <td>0-3_days</td>\n",
       "      <td>no</td>\n",
       "      <td>None</td>\n",
       "      <td>Complete</td>\n",
       "      <td>Normal</td>\n",
       "      <td>Low</td>\n",
       "      <td>no</td>\n",
       "    </tr>\n",
       "    <tr>\n",
       "      <th>4</th>\n",
       "      <td>4</td>\n",
       "      <td>no</td>\n",
       "      <td>Equal</td>\n",
       "      <td>Moderate</td>\n",
       "      <td>Normal</td>\n",
       "      <td>Plethoric</td>\n",
       "      <td>no</td>\n",
       "      <td>yes</td>\n",
       "      <td>12+</td>\n",
       "      <td>5-12</td>\n",
       "      <td>...</td>\n",
       "      <td>Plethoric</td>\n",
       "      <td>PAIVS</td>\n",
       "      <td>no</td>\n",
       "      <td>0-3_days</td>\n",
       "      <td>yes</td>\n",
       "      <td>Lt_to_Rt</td>\n",
       "      <td>Complete</td>\n",
       "      <td>Normal</td>\n",
       "      <td>Normal</td>\n",
       "      <td>yes</td>\n",
       "    </tr>\n",
       "    <tr>\n",
       "      <th>...</th>\n",
       "      <td>...</td>\n",
       "      <td>...</td>\n",
       "      <td>...</td>\n",
       "      <td>...</td>\n",
       "      <td>...</td>\n",
       "      <td>...</td>\n",
       "      <td>...</td>\n",
       "      <td>...</td>\n",
       "      <td>...</td>\n",
       "      <td>...</td>\n",
       "      <td>...</td>\n",
       "      <td>...</td>\n",
       "      <td>...</td>\n",
       "      <td>...</td>\n",
       "      <td>...</td>\n",
       "      <td>...</td>\n",
       "      <td>...</td>\n",
       "      <td>...</td>\n",
       "      <td>...</td>\n",
       "      <td>...</td>\n",
       "      <td>...</td>\n",
       "    </tr>\n",
       "    <tr>\n",
       "      <th>14995</th>\n",
       "      <td>14995</td>\n",
       "      <td>no</td>\n",
       "      <td>Equal</td>\n",
       "      <td>Moderate</td>\n",
       "      <td>Normal</td>\n",
       "      <td>Normal</td>\n",
       "      <td>no</td>\n",
       "      <td>no</td>\n",
       "      <td>5-12</td>\n",
       "      <td>5-12</td>\n",
       "      <td>...</td>\n",
       "      <td>Normal</td>\n",
       "      <td>PAIVS</td>\n",
       "      <td>no</td>\n",
       "      <td>0-3_days</td>\n",
       "      <td>no</td>\n",
       "      <td>Lt_to_Rt</td>\n",
       "      <td>Transp.</td>\n",
       "      <td>Normal</td>\n",
       "      <td>Normal</td>\n",
       "      <td>no</td>\n",
       "    </tr>\n",
       "    <tr>\n",
       "      <th>14996</th>\n",
       "      <td>14996</td>\n",
       "      <td>no</td>\n",
       "      <td>Equal</td>\n",
       "      <td>Moderate</td>\n",
       "      <td>Normal</td>\n",
       "      <td>Plethoric</td>\n",
       "      <td>no</td>\n",
       "      <td>yes</td>\n",
       "      <td>&lt;5</td>\n",
       "      <td>5-12</td>\n",
       "      <td>...</td>\n",
       "      <td>Plethoric</td>\n",
       "      <td>Fallot</td>\n",
       "      <td>no</td>\n",
       "      <td>0-3_days</td>\n",
       "      <td>yes</td>\n",
       "      <td>Lt_to_Rt</td>\n",
       "      <td>Complete</td>\n",
       "      <td>Abnormal</td>\n",
       "      <td>High</td>\n",
       "      <td>yes</td>\n",
       "    </tr>\n",
       "    <tr>\n",
       "      <th>14997</th>\n",
       "      <td>14997</td>\n",
       "      <td>no</td>\n",
       "      <td>Equal</td>\n",
       "      <td>Moderate</td>\n",
       "      <td>High</td>\n",
       "      <td>Normal</td>\n",
       "      <td>no</td>\n",
       "      <td>no</td>\n",
       "      <td>5-12</td>\n",
       "      <td>&lt;5</td>\n",
       "      <td>...</td>\n",
       "      <td>Normal</td>\n",
       "      <td>Fallot</td>\n",
       "      <td>yes</td>\n",
       "      <td>0-3_days</td>\n",
       "      <td>no</td>\n",
       "      <td>None</td>\n",
       "      <td>Complete</td>\n",
       "      <td>Normal</td>\n",
       "      <td>High</td>\n",
       "      <td>yes</td>\n",
       "    </tr>\n",
       "    <tr>\n",
       "      <th>14998</th>\n",
       "      <td>14998</td>\n",
       "      <td>no</td>\n",
       "      <td>Equal</td>\n",
       "      <td>Mild</td>\n",
       "      <td>Normal</td>\n",
       "      <td>Normal</td>\n",
       "      <td>no</td>\n",
       "      <td>no</td>\n",
       "      <td>&lt;5</td>\n",
       "      <td>&lt;5</td>\n",
       "      <td>...</td>\n",
       "      <td>Normal</td>\n",
       "      <td>TGA</td>\n",
       "      <td>no</td>\n",
       "      <td>0-3_days</td>\n",
       "      <td>no</td>\n",
       "      <td>None</td>\n",
       "      <td>Transp.</td>\n",
       "      <td>Normal</td>\n",
       "      <td>High</td>\n",
       "      <td>no</td>\n",
       "    </tr>\n",
       "    <tr>\n",
       "      <th>14999</th>\n",
       "      <td>14999</td>\n",
       "      <td>no</td>\n",
       "      <td>Equal</td>\n",
       "      <td>Severe</td>\n",
       "      <td>High</td>\n",
       "      <td>Normal</td>\n",
       "      <td>no</td>\n",
       "      <td>no</td>\n",
       "      <td>&lt;5</td>\n",
       "      <td>5-12</td>\n",
       "      <td>...</td>\n",
       "      <td>Normal</td>\n",
       "      <td>TGA</td>\n",
       "      <td>no</td>\n",
       "      <td>0-3_days</td>\n",
       "      <td>no</td>\n",
       "      <td>None</td>\n",
       "      <td>Mild</td>\n",
       "      <td>Normal</td>\n",
       "      <td>Normal</td>\n",
       "      <td>no</td>\n",
       "    </tr>\n",
       "  </tbody>\n",
       "</table>\n",
       "<p>15000 rows × 21 columns</p>\n",
       "</div>"
      ],
      "text/plain": [
       "       Unnamed: 0 BirthAsphyxia HypDistrib HypoxiaInO2     CO2  ChestXray  \\\n",
       "0               0            no      Equal      Severe  Normal     Normal   \n",
       "1               1            no      Equal    Moderate    High  Grd_Glass   \n",
       "2               2            no      Equal      Severe  Normal  Plethoric   \n",
       "3               3            no      Equal    Moderate  Normal  Plethoric   \n",
       "4               4            no      Equal    Moderate  Normal  Plethoric   \n",
       "...           ...           ...        ...         ...     ...        ...   \n",
       "14995       14995            no      Equal    Moderate  Normal     Normal   \n",
       "14996       14996            no      Equal    Moderate  Normal  Plethoric   \n",
       "14997       14997            no      Equal    Moderate    High     Normal   \n",
       "14998       14998            no      Equal        Mild  Normal     Normal   \n",
       "14999       14999            no      Equal      Severe    High     Normal   \n",
       "\n",
       "      Grunting LVHreport LowerBodyO2 RUQO2  ...  XrayReport Disease  \\\n",
       "0          yes        no        5-12    <5  ...  Asy/Patchy     TGA   \n",
       "1           no        no          <5  5-12  ...   Grd_Glass  Fallot   \n",
       "2           no       yes        5-12  5-12  ...      Normal     PFC   \n",
       "3           no        no        5-12    <5  ...   Plethoric   PAIVS   \n",
       "4           no       yes         12+  5-12  ...   Plethoric   PAIVS   \n",
       "...        ...       ...         ...   ...  ...         ...     ...   \n",
       "14995       no        no        5-12  5-12  ...      Normal   PAIVS   \n",
       "14996       no       yes          <5  5-12  ...   Plethoric  Fallot   \n",
       "14997       no        no        5-12    <5  ...      Normal  Fallot   \n",
       "14998       no        no          <5    <5  ...      Normal     TGA   \n",
       "14999       no        no          <5  5-12  ...      Normal     TGA   \n",
       "\n",
       "      GruntingReport        Age  LVH  DuctFlow CardiacMixing LungParench  \\\n",
       "0                 no  4-10_days   no  Lt_to_Rt       Transp.      Normal   \n",
       "1                 no   0-3_days   no  Rt_to_Lt          Mild    Abnormal   \n",
       "2                 no   0-3_days   no  Lt_to_Rt      Complete      Normal   \n",
       "3                 no   0-3_days   no      None      Complete      Normal   \n",
       "4                 no   0-3_days  yes  Lt_to_Rt      Complete      Normal   \n",
       "...              ...        ...  ...       ...           ...         ...   \n",
       "14995             no   0-3_days   no  Lt_to_Rt       Transp.      Normal   \n",
       "14996             no   0-3_days  yes  Lt_to_Rt      Complete    Abnormal   \n",
       "14997            yes   0-3_days   no      None      Complete      Normal   \n",
       "14998             no   0-3_days   no      None       Transp.      Normal   \n",
       "14999             no   0-3_days   no      None          Mild      Normal   \n",
       "\n",
       "      LungFlow Sick  \n",
       "0       Normal   no  \n",
       "1         High   no  \n",
       "2         High   no  \n",
       "3          Low   no  \n",
       "4       Normal  yes  \n",
       "...        ...  ...  \n",
       "14995   Normal   no  \n",
       "14996     High  yes  \n",
       "14997     High  yes  \n",
       "14998     High   no  \n",
       "14999   Normal   no  \n",
       "\n",
       "[15000 rows x 21 columns]"
      ]
     },
     "execution_count": 35,
     "metadata": {},
     "output_type": "execute_result"
    }
   ],
   "source": [
    "df.dropna()"
   ]
  },
  {
   "cell_type": "code",
   "execution_count": 36,
   "id": "663e8fc3",
   "metadata": {},
   "outputs": [
    {
     "data": {
      "text/plain": [
       "(15000, 20)"
      ]
     },
     "execution_count": 36,
     "metadata": {},
     "output_type": "execute_result"
    }
   ],
   "source": [
    "x.shape"
   ]
  },
  {
   "cell_type": "code",
   "execution_count": 37,
   "id": "9fc961a6",
   "metadata": {},
   "outputs": [
    {
     "data": {
      "text/html": [
       "<div>\n",
       "<style scoped>\n",
       "    .dataframe tbody tr th:only-of-type {\n",
       "        vertical-align: middle;\n",
       "    }\n",
       "\n",
       "    .dataframe tbody tr th {\n",
       "        vertical-align: top;\n",
       "    }\n",
       "\n",
       "    .dataframe thead th {\n",
       "        text-align: right;\n",
       "    }\n",
       "</style>\n",
       "<table border=\"1\" class=\"dataframe\">\n",
       "  <thead>\n",
       "    <tr style=\"text-align: right;\">\n",
       "      <th></th>\n",
       "      <th>Unnamed: 0</th>\n",
       "    </tr>\n",
       "  </thead>\n",
       "  <tbody>\n",
       "    <tr>\n",
       "      <th>count</th>\n",
       "      <td>15000.000000</td>\n",
       "    </tr>\n",
       "    <tr>\n",
       "      <th>mean</th>\n",
       "      <td>7499.500000</td>\n",
       "    </tr>\n",
       "    <tr>\n",
       "      <th>std</th>\n",
       "      <td>4330.271354</td>\n",
       "    </tr>\n",
       "    <tr>\n",
       "      <th>min</th>\n",
       "      <td>0.000000</td>\n",
       "    </tr>\n",
       "    <tr>\n",
       "      <th>25%</th>\n",
       "      <td>3749.750000</td>\n",
       "    </tr>\n",
       "    <tr>\n",
       "      <th>50%</th>\n",
       "      <td>7499.500000</td>\n",
       "    </tr>\n",
       "    <tr>\n",
       "      <th>75%</th>\n",
       "      <td>11249.250000</td>\n",
       "    </tr>\n",
       "    <tr>\n",
       "      <th>max</th>\n",
       "      <td>14999.000000</td>\n",
       "    </tr>\n",
       "  </tbody>\n",
       "</table>\n",
       "</div>"
      ],
      "text/plain": [
       "         Unnamed: 0\n",
       "count  15000.000000\n",
       "mean    7499.500000\n",
       "std     4330.271354\n",
       "min        0.000000\n",
       "25%     3749.750000\n",
       "50%     7499.500000\n",
       "75%    11249.250000\n",
       "max    14999.000000"
      ]
     },
     "execution_count": 37,
     "metadata": {},
     "output_type": "execute_result"
    }
   ],
   "source": [
    "x.describe()"
   ]
  },
  {
   "cell_type": "code",
   "execution_count": 48,
   "id": "23b670e9",
   "metadata": {},
   "outputs": [],
   "source": [
    "# Lebal Encoding\n",
    "z=df['Disease']\n",
    "from sklearn.preprocessing import LabelEncoder\n",
    "le= LabelEncoder()\n",
    "for col in x.columns:\n",
    "    x[col]=le.fit_transform(x[col])\n",
    "   # z[col]=le.fit_transform(z[col])"
   ]
  },
  {
   "cell_type": "code",
   "execution_count": 49,
   "id": "0adce583",
   "metadata": {},
   "outputs": [
    {
     "data": {
      "text/html": [
       "<div>\n",
       "<style scoped>\n",
       "    .dataframe tbody tr th:only-of-type {\n",
       "        vertical-align: middle;\n",
       "    }\n",
       "\n",
       "    .dataframe tbody tr th {\n",
       "        vertical-align: top;\n",
       "    }\n",
       "\n",
       "    .dataframe thead th {\n",
       "        text-align: right;\n",
       "    }\n",
       "</style>\n",
       "<table border=\"1\" class=\"dataframe\">\n",
       "  <thead>\n",
       "    <tr style=\"text-align: right;\">\n",
       "      <th></th>\n",
       "      <th>Unnamed: 0</th>\n",
       "      <th>BirthAsphyxia</th>\n",
       "      <th>HypDistrib</th>\n",
       "      <th>HypoxiaInO2</th>\n",
       "      <th>CO2</th>\n",
       "      <th>ChestXray</th>\n",
       "      <th>Grunting</th>\n",
       "      <th>LVHreport</th>\n",
       "      <th>LowerBodyO2</th>\n",
       "      <th>RUQO2</th>\n",
       "      <th>CO2Report</th>\n",
       "      <th>XrayReport</th>\n",
       "      <th>Disease</th>\n",
       "      <th>GruntingReport</th>\n",
       "      <th>Age</th>\n",
       "      <th>LVH</th>\n",
       "      <th>DuctFlow</th>\n",
       "      <th>CardiacMixing</th>\n",
       "      <th>LungParench</th>\n",
       "      <th>LungFlow</th>\n",
       "    </tr>\n",
       "  </thead>\n",
       "  <tbody>\n",
       "    <tr>\n",
       "      <th>count</th>\n",
       "      <td>14250.000000</td>\n",
       "      <td>14250.000000</td>\n",
       "      <td>14250.000000</td>\n",
       "      <td>14250.000000</td>\n",
       "      <td>14250.00000</td>\n",
       "      <td>14250.000000</td>\n",
       "      <td>14250.000000</td>\n",
       "      <td>14250.000000</td>\n",
       "      <td>14250.000000</td>\n",
       "      <td>14250.000000</td>\n",
       "      <td>14250.000000</td>\n",
       "      <td>14250.000000</td>\n",
       "      <td>14250.000000</td>\n",
       "      <td>14250.000000</td>\n",
       "      <td>14250.000000</td>\n",
       "      <td>14250.000000</td>\n",
       "      <td>14250.000000</td>\n",
       "      <td>14250.000000</td>\n",
       "      <td>14250.000000</td>\n",
       "      <td>14250.000000</td>\n",
       "    </tr>\n",
       "    <tr>\n",
       "      <th>mean</th>\n",
       "      <td>7124.500000</td>\n",
       "      <td>0.019649</td>\n",
       "      <td>0.023018</td>\n",
       "      <td>1.332772</td>\n",
       "      <td>1.70814</td>\n",
       "      <td>2.592140</td>\n",
       "      <td>0.099649</td>\n",
       "      <td>0.190667</td>\n",
       "      <td>1.349895</td>\n",
       "      <td>1.318737</td>\n",
       "      <td>0.142175</td>\n",
       "      <td>2.504351</td>\n",
       "      <td>2.110386</td>\n",
       "      <td>0.143930</td>\n",
       "      <td>0.446737</td>\n",
       "      <td>0.183158</td>\n",
       "      <td>0.508281</td>\n",
       "      <td>1.103368</td>\n",
       "      <td>1.714246</td>\n",
       "      <td>0.744491</td>\n",
       "    </tr>\n",
       "    <tr>\n",
       "      <th>std</th>\n",
       "      <td>4113.765003</td>\n",
       "      <td>0.138796</td>\n",
       "      <td>0.149964</td>\n",
       "      <td>0.599436</td>\n",
       "      <td>0.67328</td>\n",
       "      <td>1.149182</td>\n",
       "      <td>0.299542</td>\n",
       "      <td>0.392841</td>\n",
       "      <td>0.631891</td>\n",
       "      <td>0.638788</td>\n",
       "      <td>0.349242</td>\n",
       "      <td>1.213425</td>\n",
       "      <td>2.066060</td>\n",
       "      <td>0.351031</td>\n",
       "      <td>0.767254</td>\n",
       "      <td>0.386809</td>\n",
       "      <td>0.617403</td>\n",
       "      <td>1.368277</td>\n",
       "      <td>0.669373</td>\n",
       "      <td>0.661796</td>\n",
       "    </tr>\n",
       "    <tr>\n",
       "      <th>min</th>\n",
       "      <td>0.000000</td>\n",
       "      <td>0.000000</td>\n",
       "      <td>0.000000</td>\n",
       "      <td>0.000000</td>\n",
       "      <td>0.00000</td>\n",
       "      <td>0.000000</td>\n",
       "      <td>0.000000</td>\n",
       "      <td>0.000000</td>\n",
       "      <td>0.000000</td>\n",
       "      <td>0.000000</td>\n",
       "      <td>0.000000</td>\n",
       "      <td>0.000000</td>\n",
       "      <td>0.000000</td>\n",
       "      <td>0.000000</td>\n",
       "      <td>0.000000</td>\n",
       "      <td>0.000000</td>\n",
       "      <td>0.000000</td>\n",
       "      <td>0.000000</td>\n",
       "      <td>0.000000</td>\n",
       "      <td>0.000000</td>\n",
       "    </tr>\n",
       "    <tr>\n",
       "      <th>25%</th>\n",
       "      <td>3562.250000</td>\n",
       "      <td>0.000000</td>\n",
       "      <td>0.000000</td>\n",
       "      <td>1.000000</td>\n",
       "      <td>2.00000</td>\n",
       "      <td>2.000000</td>\n",
       "      <td>0.000000</td>\n",
       "      <td>0.000000</td>\n",
       "      <td>1.000000</td>\n",
       "      <td>1.000000</td>\n",
       "      <td>0.000000</td>\n",
       "      <td>2.000000</td>\n",
       "      <td>0.000000</td>\n",
       "      <td>0.000000</td>\n",
       "      <td>0.000000</td>\n",
       "      <td>0.000000</td>\n",
       "      <td>0.000000</td>\n",
       "      <td>0.000000</td>\n",
       "      <td>2.000000</td>\n",
       "      <td>0.000000</td>\n",
       "    </tr>\n",
       "    <tr>\n",
       "      <th>50%</th>\n",
       "      <td>7124.500000</td>\n",
       "      <td>0.000000</td>\n",
       "      <td>0.000000</td>\n",
       "      <td>1.000000</td>\n",
       "      <td>2.00000</td>\n",
       "      <td>3.000000</td>\n",
       "      <td>0.000000</td>\n",
       "      <td>0.000000</td>\n",
       "      <td>1.000000</td>\n",
       "      <td>1.000000</td>\n",
       "      <td>0.000000</td>\n",
       "      <td>3.000000</td>\n",
       "      <td>2.000000</td>\n",
       "      <td>0.000000</td>\n",
       "      <td>0.000000</td>\n",
       "      <td>0.000000</td>\n",
       "      <td>0.000000</td>\n",
       "      <td>0.000000</td>\n",
       "      <td>2.000000</td>\n",
       "      <td>1.000000</td>\n",
       "    </tr>\n",
       "    <tr>\n",
       "      <th>75%</th>\n",
       "      <td>10686.750000</td>\n",
       "      <td>0.000000</td>\n",
       "      <td>0.000000</td>\n",
       "      <td>2.000000</td>\n",
       "      <td>2.00000</td>\n",
       "      <td>3.000000</td>\n",
       "      <td>0.000000</td>\n",
       "      <td>0.000000</td>\n",
       "      <td>2.000000</td>\n",
       "      <td>2.000000</td>\n",
       "      <td>0.000000</td>\n",
       "      <td>4.000000</td>\n",
       "      <td>5.000000</td>\n",
       "      <td>0.000000</td>\n",
       "      <td>1.000000</td>\n",
       "      <td>0.000000</td>\n",
       "      <td>1.000000</td>\n",
       "      <td>3.000000</td>\n",
       "      <td>2.000000</td>\n",
       "      <td>1.000000</td>\n",
       "    </tr>\n",
       "    <tr>\n",
       "      <th>max</th>\n",
       "      <td>14249.000000</td>\n",
       "      <td>1.000000</td>\n",
       "      <td>1.000000</td>\n",
       "      <td>2.000000</td>\n",
       "      <td>2.00000</td>\n",
       "      <td>4.000000</td>\n",
       "      <td>1.000000</td>\n",
       "      <td>1.000000</td>\n",
       "      <td>2.000000</td>\n",
       "      <td>2.000000</td>\n",
       "      <td>1.000000</td>\n",
       "      <td>4.000000</td>\n",
       "      <td>5.000000</td>\n",
       "      <td>1.000000</td>\n",
       "      <td>2.000000</td>\n",
       "      <td>1.000000</td>\n",
       "      <td>2.000000</td>\n",
       "      <td>3.000000</td>\n",
       "      <td>2.000000</td>\n",
       "      <td>2.000000</td>\n",
       "    </tr>\n",
       "  </tbody>\n",
       "</table>\n",
       "</div>"
      ],
      "text/plain": [
       "         Unnamed: 0  BirthAsphyxia    HypDistrib   HypoxiaInO2          CO2  \\\n",
       "count  14250.000000   14250.000000  14250.000000  14250.000000  14250.00000   \n",
       "mean    7124.500000       0.019649      0.023018      1.332772      1.70814   \n",
       "std     4113.765003       0.138796      0.149964      0.599436      0.67328   \n",
       "min        0.000000       0.000000      0.000000      0.000000      0.00000   \n",
       "25%     3562.250000       0.000000      0.000000      1.000000      2.00000   \n",
       "50%     7124.500000       0.000000      0.000000      1.000000      2.00000   \n",
       "75%    10686.750000       0.000000      0.000000      2.000000      2.00000   \n",
       "max    14249.000000       1.000000      1.000000      2.000000      2.00000   \n",
       "\n",
       "          ChestXray      Grunting     LVHreport   LowerBodyO2         RUQO2  \\\n",
       "count  14250.000000  14250.000000  14250.000000  14250.000000  14250.000000   \n",
       "mean       2.592140      0.099649      0.190667      1.349895      1.318737   \n",
       "std        1.149182      0.299542      0.392841      0.631891      0.638788   \n",
       "min        0.000000      0.000000      0.000000      0.000000      0.000000   \n",
       "25%        2.000000      0.000000      0.000000      1.000000      1.000000   \n",
       "50%        3.000000      0.000000      0.000000      1.000000      1.000000   \n",
       "75%        3.000000      0.000000      0.000000      2.000000      2.000000   \n",
       "max        4.000000      1.000000      1.000000      2.000000      2.000000   \n",
       "\n",
       "          CO2Report    XrayReport       Disease  GruntingReport           Age  \\\n",
       "count  14250.000000  14250.000000  14250.000000    14250.000000  14250.000000   \n",
       "mean       0.142175      2.504351      2.110386        0.143930      0.446737   \n",
       "std        0.349242      1.213425      2.066060        0.351031      0.767254   \n",
       "min        0.000000      0.000000      0.000000        0.000000      0.000000   \n",
       "25%        0.000000      2.000000      0.000000        0.000000      0.000000   \n",
       "50%        0.000000      3.000000      2.000000        0.000000      0.000000   \n",
       "75%        0.000000      4.000000      5.000000        0.000000      1.000000   \n",
       "max        1.000000      4.000000      5.000000        1.000000      2.000000   \n",
       "\n",
       "                LVH      DuctFlow  CardiacMixing   LungParench      LungFlow  \n",
       "count  14250.000000  14250.000000   14250.000000  14250.000000  14250.000000  \n",
       "mean       0.183158      0.508281       1.103368      1.714246      0.744491  \n",
       "std        0.386809      0.617403       1.368277      0.669373      0.661796  \n",
       "min        0.000000      0.000000       0.000000      0.000000      0.000000  \n",
       "25%        0.000000      0.000000       0.000000      2.000000      0.000000  \n",
       "50%        0.000000      0.000000       0.000000      2.000000      1.000000  \n",
       "75%        0.000000      1.000000       3.000000      2.000000      1.000000  \n",
       "max        1.000000      2.000000       3.000000      2.000000      2.000000  "
      ]
     },
     "execution_count": 49,
     "metadata": {},
     "output_type": "execute_result"
    }
   ],
   "source": [
    "# Exploratory Data Analysis\n",
    "x.describe()"
   ]
  },
  {
   "cell_type": "code",
   "execution_count": 50,
   "id": "890be27b",
   "metadata": {},
   "outputs": [
    {
     "data": {
      "text/plain": [
       "(8, 20)"
      ]
     },
     "execution_count": 50,
     "metadata": {},
     "output_type": "execute_result"
    }
   ],
   "source": [
    "x.describe().shape"
   ]
  },
  {
   "cell_type": "code",
   "execution_count": 51,
   "id": "d2609d6d",
   "metadata": {
    "scrolled": false
   },
   "outputs": [
    {
     "name": "stderr",
     "output_type": "stream",
     "text": [
      "C:\\ProgramData\\anacondaa\\Lib\\site-packages\\sklearn\\base.py:439: UserWarning: X does not have valid feature names, but IsolationForest was fitted with feature names\n",
      "  warnings.warn(\n"
     ]
    }
   ],
   "source": [
    "# Outlier Detection And Removal\n",
    "from sklearn.ensemble import IsolationForest\n",
    "iso = IsolationForest(random_state=0, contamination=0.05)\n",
    "clean = iso.fit_predict(x, y)"
   ]
  },
  {
   "cell_type": "code",
   "execution_count": 42,
   "id": "53007bad",
   "metadata": {},
   "outputs": [],
   "source": [
    "x=x[clean == 1]\n",
    "y=y[clean == 1]"
   ]
  },
  {
   "cell_type": "code",
   "execution_count": 43,
   "id": "488140af",
   "metadata": {},
   "outputs": [
    {
     "data": {
      "text/plain": [
       "(14250, 20)"
      ]
     },
     "execution_count": 43,
     "metadata": {},
     "output_type": "execute_result"
    }
   ],
   "source": [
    "x.shape"
   ]
  },
  {
   "cell_type": "markdown",
   "id": "4b9f362a",
   "metadata": {},
   "source": [
    "#### Identify important features use wrapper / filters method"
   ]
  },
  {
   "cell_type": "markdown",
   "id": "f7c94e6e",
   "metadata": {},
   "source": [
    "#### Use different graphs to understand the data\n"
   ]
  },
  {
   "cell_type": "code",
   "execution_count": 44,
   "id": "edc17553",
   "metadata": {},
   "outputs": [
    {
     "data": {
      "text/plain": [
       "<seaborn.axisgrid.PairGrid at 0x18acd3fd710>"
      ]
     },
     "execution_count": 44,
     "metadata": {},
     "output_type": "execute_result"
    },
    {
     "data": {
      "image/png": "[encoded data removed]",
      "text/plain": [
       "<Figure size 289.486x250 with 2 Axes>"
      ]
     },
     "metadata": {},
     "output_type": "display_data"
    }
   ],
   "source": [
    "sns.pairplot(df,hue='Sick', palette='tab10')"
   ]
  },
  {
   "cell_type": "code",
   "execution_count": 45,
   "id": "81ed5aac",
   "metadata": {},
   "outputs": [
    {
     "ename": "ValueError",
     "evalue": "could not convert string to float: 'no'",
     "output_type": "error",
     "traceback": [
      "\u001b[1;31m---------------------------------------------------------------------------\u001b[0m",
      "\u001b[1;31mValueError\u001b[0m                                Traceback (most recent call last)",
      "Cell \u001b[1;32mIn[45], line 3\u001b[0m\n\u001b[0;32m      1\u001b[0m plt\u001b[38;5;241m.\u001b[39mfigure(figsize\u001b[38;5;241m=\u001b[39m(\u001b[38;5;241m10\u001b[39m,\u001b[38;5;241m10\u001b[39m))\n\u001b[0;32m      2\u001b[0m z\u001b[38;5;241m=\u001b[39mdf[\u001b[38;5;124m'\u001b[39m\u001b[38;5;124mDisease\u001b[39m\u001b[38;5;124m'\u001b[39m]\n\u001b[1;32m----> 3\u001b[0m plt\u001b[38;5;241m.\u001b[39mpie(y,labels\u001b[38;5;241m=\u001b[39mz ,autopct\u001b[38;5;241m=\u001b[39m\u001b[38;5;124m\"\u001b[39m\u001b[38;5;132;01m%2.2f\u001b[39;00m\u001b[38;5;132;01m%%\u001b[39;00m\u001b[38;5;124m\"\u001b[39m)\n",
      "File \u001b[1;32mC:\\ProgramData\\anacondaa\\Lib\\site-packages\\matplotlib\\pyplot.py:2799\u001b[0m, in \u001b[0;36mpie\u001b[1;34m(x, explode, labels, colors, autopct, pctdistance, shadow, labeldistance, startangle, radius, counterclock, wedgeprops, textprops, center, frame, rotatelabels, normalize, hatch, data)\u001b[0m\n\u001b[0;32m   2792\u001b[0m \u001b[38;5;129m@_copy_docstring_and_deprecators\u001b[39m(Axes\u001b[38;5;241m.\u001b[39mpie)\n\u001b[0;32m   2793\u001b[0m \u001b[38;5;28;01mdef\u001b[39;00m \u001b[38;5;21mpie\u001b[39m(\n\u001b[0;32m   2794\u001b[0m         x, explode\u001b[38;5;241m=\u001b[39m\u001b[38;5;28;01mNone\u001b[39;00m, labels\u001b[38;5;241m=\u001b[39m\u001b[38;5;28;01mNone\u001b[39;00m, colors\u001b[38;5;241m=\u001b[39m\u001b[38;5;28;01mNone\u001b[39;00m, autopct\u001b[38;5;241m=\u001b[39m\u001b[38;5;28;01mNone\u001b[39;00m,\n\u001b[1;32m   (...)\u001b[0m\n\u001b[0;32m   2797\u001b[0m         textprops\u001b[38;5;241m=\u001b[39m\u001b[38;5;28;01mNone\u001b[39;00m, center\u001b[38;5;241m=\u001b[39m(\u001b[38;5;241m0\u001b[39m, \u001b[38;5;241m0\u001b[39m), frame\u001b[38;5;241m=\u001b[39m\u001b[38;5;28;01mFalse\u001b[39;00m,\n\u001b[0;32m   2798\u001b[0m         rotatelabels\u001b[38;5;241m=\u001b[39m\u001b[38;5;28;01mFalse\u001b[39;00m, \u001b[38;5;241m*\u001b[39m, normalize\u001b[38;5;241m=\u001b[39m\u001b[38;5;28;01mTrue\u001b[39;00m, hatch\u001b[38;5;241m=\u001b[39m\u001b[38;5;28;01mNone\u001b[39;00m, data\u001b[38;5;241m=\u001b[39m\u001b[38;5;28;01mNone\u001b[39;00m):\n\u001b[1;32m-> 2799\u001b[0m     \u001b[38;5;28;01mreturn\u001b[39;00m gca()\u001b[38;5;241m.\u001b[39mpie(\n\u001b[0;32m   2800\u001b[0m         x, explode\u001b[38;5;241m=\u001b[39mexplode, labels\u001b[38;5;241m=\u001b[39mlabels, colors\u001b[38;5;241m=\u001b[39mcolors,\n\u001b[0;32m   2801\u001b[0m         autopct\u001b[38;5;241m=\u001b[39mautopct, pctdistance\u001b[38;5;241m=\u001b[39mpctdistance, shadow\u001b[38;5;241m=\u001b[39mshadow,\n\u001b[0;32m   2802\u001b[0m         labeldistance\u001b[38;5;241m=\u001b[39mlabeldistance, startangle\u001b[38;5;241m=\u001b[39mstartangle,\n\u001b[0;32m   2803\u001b[0m         radius\u001b[38;5;241m=\u001b[39mradius, counterclock\u001b[38;5;241m=\u001b[39mcounterclock,\n\u001b[0;32m   2804\u001b[0m         wedgeprops\u001b[38;5;241m=\u001b[39mwedgeprops, textprops\u001b[38;5;241m=\u001b[39mtextprops, center\u001b[38;5;241m=\u001b[39mcenter,\n\u001b[0;32m   2805\u001b[0m         frame\u001b[38;5;241m=\u001b[39mframe, rotatelabels\u001b[38;5;241m=\u001b[39mrotatelabels, normalize\u001b[38;5;241m=\u001b[39mnormalize,\n\u001b[0;32m   2806\u001b[0m         hatch\u001b[38;5;241m=\u001b[39mhatch, \u001b[38;5;241m*\u001b[39m\u001b[38;5;241m*\u001b[39m({\u001b[38;5;124m\"\u001b[39m\u001b[38;5;124mdata\u001b[39m\u001b[38;5;124m\"\u001b[39m: data} \u001b[38;5;28;01mif\u001b[39;00m data \u001b[38;5;129;01mis\u001b[39;00m \u001b[38;5;129;01mnot\u001b[39;00m \u001b[38;5;28;01mNone\u001b[39;00m \u001b[38;5;28;01melse\u001b[39;00m {}))\n",
      "File \u001b[1;32mC:\\ProgramData\\anacondaa\\Lib\\site-packages\\matplotlib\\__init__.py:1442\u001b[0m, in \u001b[0;36m_preprocess_data.<locals>.inner\u001b[1;34m(ax, data, *args, **kwargs)\u001b[0m\n\u001b[0;32m   1439\u001b[0m \u001b[38;5;129m@functools\u001b[39m\u001b[38;5;241m.\u001b[39mwraps(func)\n\u001b[0;32m   1440\u001b[0m \u001b[38;5;28;01mdef\u001b[39;00m \u001b[38;5;21minner\u001b[39m(ax, \u001b[38;5;241m*\u001b[39margs, data\u001b[38;5;241m=\u001b[39m\u001b[38;5;28;01mNone\u001b[39;00m, \u001b[38;5;241m*\u001b[39m\u001b[38;5;241m*\u001b[39mkwargs):\n\u001b[0;32m   1441\u001b[0m     \u001b[38;5;28;01mif\u001b[39;00m data \u001b[38;5;129;01mis\u001b[39;00m \u001b[38;5;28;01mNone\u001b[39;00m:\n\u001b[1;32m-> 1442\u001b[0m         \u001b[38;5;28;01mreturn\u001b[39;00m func(ax, \u001b[38;5;241m*\u001b[39m\u001b[38;5;28mmap\u001b[39m(sanitize_sequence, args), \u001b[38;5;241m*\u001b[39m\u001b[38;5;241m*\u001b[39mkwargs)\n\u001b[0;32m   1444\u001b[0m     bound \u001b[38;5;241m=\u001b[39m new_sig\u001b[38;5;241m.\u001b[39mbind(ax, \u001b[38;5;241m*\u001b[39margs, \u001b[38;5;241m*\u001b[39m\u001b[38;5;241m*\u001b[39mkwargs)\n\u001b[0;32m   1445\u001b[0m     auto_label \u001b[38;5;241m=\u001b[39m (bound\u001b[38;5;241m.\u001b[39marguments\u001b[38;5;241m.\u001b[39mget(label_namer)\n\u001b[0;32m   1446\u001b[0m                   \u001b[38;5;129;01mor\u001b[39;00m bound\u001b[38;5;241m.\u001b[39mkwargs\u001b[38;5;241m.\u001b[39mget(label_namer))\n",
      "File \u001b[1;32mC:\\ProgramData\\anacondaa\\Lib\\site-packages\\matplotlib\\axes\\_axes.py:3191\u001b[0m, in \u001b[0;36mAxes.pie\u001b[1;34m(self, x, explode, labels, colors, autopct, pctdistance, shadow, labeldistance, startangle, radius, counterclock, wedgeprops, textprops, center, frame, rotatelabels, normalize, hatch)\u001b[0m\n\u001b[0;32m   3188\u001b[0m \u001b[38;5;28mself\u001b[39m\u001b[38;5;241m.\u001b[39mset_aspect(\u001b[38;5;124m'\u001b[39m\u001b[38;5;124mequal\u001b[39m\u001b[38;5;124m'\u001b[39m)\n\u001b[0;32m   3189\u001b[0m \u001b[38;5;66;03m# The use of float32 is \"historical\", but can't be changed without\u001b[39;00m\n\u001b[0;32m   3190\u001b[0m \u001b[38;5;66;03m# regenerating the test baselines.\u001b[39;00m\n\u001b[1;32m-> 3191\u001b[0m x \u001b[38;5;241m=\u001b[39m np\u001b[38;5;241m.\u001b[39masarray(x, np\u001b[38;5;241m.\u001b[39mfloat32)\n\u001b[0;32m   3192\u001b[0m \u001b[38;5;28;01mif\u001b[39;00m x\u001b[38;5;241m.\u001b[39mndim \u001b[38;5;241m>\u001b[39m \u001b[38;5;241m1\u001b[39m:\n\u001b[0;32m   3193\u001b[0m     \u001b[38;5;28;01mraise\u001b[39;00m \u001b[38;5;167;01mValueError\u001b[39;00m(\u001b[38;5;124m\"\u001b[39m\u001b[38;5;124mx must be 1D\u001b[39m\u001b[38;5;124m\"\u001b[39m)\n",
      "File \u001b[1;32mC:\\ProgramData\\anacondaa\\Lib\\site-packages\\pandas\\core\\series.py:893\u001b[0m, in \u001b[0;36mSeries.__array__\u001b[1;34m(self, dtype)\u001b[0m\n\u001b[0;32m    846\u001b[0m \u001b[38;5;28;01mdef\u001b[39;00m \u001b[38;5;21m__array__\u001b[39m(\u001b[38;5;28mself\u001b[39m, dtype: npt\u001b[38;5;241m.\u001b[39mDTypeLike \u001b[38;5;241m|\u001b[39m \u001b[38;5;28;01mNone\u001b[39;00m \u001b[38;5;241m=\u001b[39m \u001b[38;5;28;01mNone\u001b[39;00m) \u001b[38;5;241m-\u001b[39m\u001b[38;5;241m>\u001b[39m np\u001b[38;5;241m.\u001b[39mndarray:\n\u001b[0;32m    847\u001b[0m \u001b[38;5;250m    \u001b[39m\u001b[38;5;124;03m\"\"\"\u001b[39;00m\n\u001b[0;32m    848\u001b[0m \u001b[38;5;124;03m    Return the values as a NumPy array.\u001b[39;00m\n\u001b[0;32m    849\u001b[0m \n\u001b[1;32m   (...)\u001b[0m\n\u001b[0;32m    891\u001b[0m \u001b[38;5;124;03m          dtype='datetime64[ns]')\u001b[39;00m\n\u001b[0;32m    892\u001b[0m \u001b[38;5;124;03m    \"\"\"\u001b[39;00m\n\u001b[1;32m--> 893\u001b[0m     \u001b[38;5;28;01mreturn\u001b[39;00m np\u001b[38;5;241m.\u001b[39masarray(\u001b[38;5;28mself\u001b[39m\u001b[38;5;241m.\u001b[39m_values, dtype)\n",
      "\u001b[1;31mValueError\u001b[0m: could not convert string to float: 'no'"
     ]
    },
    {
     "data": {
      "image/png": "[encoded data removed]",
      "text/plain": [
       "<Figure size 1000x1000 with 1 Axes>"
      ]
     },
     "metadata": {},
     "output_type": "display_data"
    }
   ],
   "source": [
    "plt.figure(figsize=(10,10))\n",
    "z=df['Disease']\n",
    "plt.pie(y,labels=z ,autopct=\"%2.2f%%\");"
   ]
  },
  {
   "cell_type": "code",
   "execution_count": 54,
   "id": "ba068dd4",
   "metadata": {},
   "outputs": [
    {
     "data": {
      "image/png": "[encoded data removed]",
      "text/plain": [
       "<Figure size 640x480 with 1 Axes>"
      ]
     },
     "metadata": {},
     "output_type": "display_data"
    }
   ],
   "source": [
    "plt.bar(df['Disease'],df['Sick'] )\n",
    "\n",
    "# Add labels and title\n",
    "plt.xlabel('Disease')\n",
    "plt.ylabel('Sick')\n",
    "plt.title('Bar Chart Example')\n",
    "plt.show()"
   ]
  },
  {
   "cell_type": "code",
   "execution_count": 28,
   "id": "eedac0ae",
   "metadata": {},
   "outputs": [
    {
     "data": {
      "text/plain": [
       "no     10904\n",
       "yes     3346\n",
       "Name: Sick, dtype: int64"
      ]
     },
     "execution_count": 28,
     "metadata": {},
     "output_type": "execute_result"
    }
   ],
   "source": [
    "y.value_counts()"
   ]
  },
  {
   "cell_type": "code",
   "execution_count": 29,
   "id": "9ddeefe4",
   "metadata": {},
   "outputs": [
    {
     "data": {
      "text/plain": [
       "<Axes: xlabel='Sick', ylabel='count'>"
      ]
     },
     "execution_count": 29,
     "metadata": {},
     "output_type": "execute_result"
    },
    {
     "data": {
      "image/png": "[encoded data removed]",
      "text/plain": [
       "<Figure size 640x480 with 1 Axes>"
      ]
     },
     "metadata": {},
     "output_type": "display_data"
    }
   ],
   "source": [
    "sns.countplot(x=y)"
   ]
  },
  {
   "cell_type": "code",
   "execution_count": 30,
   "id": "f6242f22",
   "metadata": {},
   "outputs": [
    {
     "name": "stdout",
     "output_type": "stream",
     "text": [
      "Class 0: 76.52\n",
      "Class 1: 23.48\n"
     ]
    }
   ],
   "source": [
    "print('Class 0:', round(y.value_counts()[0]/len(y)*100,2))\n",
    "print('Class 1:', round(y.value_counts()[1]/len(y)*100,2))\n"
   ]
  },
  {
   "cell_type": "code",
   "execution_count": 31,
   "id": "a949d74a",
   "metadata": {},
   "outputs": [],
   "source": [
    "from imblearn.over_sampling import RandomOverSampler\n",
    "ros=RandomOverSampler(random_state=0)\n",
    "x_res,y_res=ros.fit_resample(x,y)"
   ]
  },
  {
   "cell_type": "code",
   "execution_count": 32,
   "id": "59479fb3",
   "metadata": {},
   "outputs": [
    {
     "data": {
      "text/plain": [
       "(21808, 20)"
      ]
     },
     "execution_count": 32,
     "metadata": {},
     "output_type": "execute_result"
    }
   ],
   "source": [
    "x_res.shape"
   ]
  },
  {
   "cell_type": "code",
   "execution_count": 33,
   "id": "d46349df",
   "metadata": {
    "scrolled": true
   },
   "outputs": [
    {
     "data": {
      "text/plain": [
       "<Axes: xlabel='Sick', ylabel='count'>"
      ]
     },
     "execution_count": 33,
     "metadata": {},
     "output_type": "execute_result"
    },
    {
     "data": {
      "image/png": "[encoded data removed]",
      "text/plain": [
       "<Figure size 640x480 with 1 Axes>"
      ]
     },
     "metadata": {},
     "output_type": "display_data"
    }
   ],
   "source": [
    "sns.countplot(x=y_res)"
   ]
  },
  {
   "cell_type": "markdown",
   "id": "849374bb",
   "metadata": {},
   "source": [
    "#### Use encoding or scaling if necessary"
   ]
  },
  {
   "cell_type": "code",
   "execution_count": 34,
   "id": "282d17f3",
   "metadata": {},
   "outputs": [],
   "source": [
    "from sklearn.preprocessing import MinMaxScaler\n",
    "scaler=MinMaxScaler()\n",
    "x_scaled=scaler.fit_transform(x_res)"
   ]
  },
  {
   "cell_type": "code",
   "execution_count": 35,
   "id": "8d0a544d",
   "metadata": {
    "scrolled": true
   },
   "outputs": [
    {
     "data": {
      "text/plain": [
       "array([[0.00000000e+00, 0.00000000e+00, 0.00000000e+00, ...,\n",
       "        3.33333333e-01, 0.00000000e+00, 0.00000000e+00],\n",
       "       [6.66755567e-05, 0.00000000e+00, 0.00000000e+00, ...,\n",
       "        0.00000000e+00, 1.00000000e+00, 0.00000000e+00],\n",
       "       [1.33351113e-04, 0.00000000e+00, 0.00000000e+00, ...,\n",
       "        0.00000000e+00, 1.00000000e+00, 5.00000000e-01],\n",
       "       ...,\n",
       "       [8.23843179e-01, 0.00000000e+00, 0.00000000e+00, ...,\n",
       "        0.00000000e+00, 1.00000000e+00, 5.00000000e-01],\n",
       "       [7.43632484e-01, 0.00000000e+00, 0.00000000e+00, ...,\n",
       "        0.00000000e+00, 1.00000000e+00, 0.00000000e+00],\n",
       "       [8.97452994e-01, 0.00000000e+00, 0.00000000e+00, ...,\n",
       "        0.00000000e+00, 0.00000000e+00, 0.00000000e+00]])"
      ]
     },
     "execution_count": 35,
     "metadata": {},
     "output_type": "execute_result"
    }
   ],
   "source": [
    "x_scaled"
   ]
  },
  {
   "cell_type": "markdown",
   "id": "bd0d007c",
   "metadata": {},
   "source": [
    "#### Check the accuracy of different algorithms"
   ]
  },
  {
   "cell_type": "code",
   "execution_count": 36,
   "id": "591f5ff9",
   "metadata": {},
   "outputs": [],
   "source": [
    "from sklearn.model_selection import train_test_split "
   ]
  },
  {
   "cell_type": "code",
   "execution_count": 37,
   "id": "86be9963",
   "metadata": {},
   "outputs": [],
   "source": [
    "x_train,x_test,y_train,y_test=train_test_split(x_scaled,y_res,random_state=0,stratify=y_res)"
   ]
  },
  {
   "cell_type": "code",
   "execution_count": 38,
   "id": "e21de2c1",
   "metadata": {},
   "outputs": [
    {
     "data": {
      "text/plain": [
       "(16356, 20)"
      ]
     },
     "execution_count": 38,
     "metadata": {},
     "output_type": "execute_result"
    }
   ],
   "source": [
    "x_train.shape"
   ]
  },
  {
   "cell_type": "code",
   "execution_count": 39,
   "id": "f7f90d3d",
   "metadata": {},
   "outputs": [
    {
     "data": {
      "text/plain": [
       "(5452, 20)"
      ]
     },
     "execution_count": 39,
     "metadata": {},
     "output_type": "execute_result"
    }
   ],
   "source": [
    "x_test.shape"
   ]
  },
  {
   "cell_type": "code",
   "execution_count": 40,
   "id": "ebf1ef6d",
   "metadata": {},
   "outputs": [],
   "source": [
    "from sklearn.metrics import accuracy_score\n",
    "from sklearn.ensemble  import RandomForestClassifier"
   ]
  },
  {
   "cell_type": "code",
   "execution_count": 41,
   "id": "c2387505",
   "metadata": {},
   "outputs": [],
   "source": [
    "from sklearn.metrics import classification_report,ConfusionMatrixDisplay"
   ]
  },
  {
   "cell_type": "code",
   "execution_count": 42,
   "id": "2edc2fc9",
   "metadata": {},
   "outputs": [
    {
     "data": {
      "text/html": [
       "<style>#sk-container-id-3 {color: black;background-color: white;}#sk-container-id-3 pre{padding: 0;}#sk-container-id-3 div.sk-toggleable {background-color: white;}#sk-container-id-3 label.sk-toggleable__label {cursor: pointer;display: block;width: 100%;margin-bottom: 0;padding: 0.3em;box-sizing: border-box;text-align: center;}#sk-container-id-3 label.sk-toggleable__label-arrow:before {content: \"▸\";float: left;margin-right: 0.25em;color: #696969;}#sk-container-id-3 label.sk-toggleable__label-arrow:hover:before {color: black;}#sk-container-id-3 div.sk-estimator:hover label.sk-toggleable__label-arrow:before {color: black;}#sk-container-id-3 div.sk-toggleable__content {max-height: 0;max-width: 0;overflow: hidden;text-align: left;background-color: #f0f8ff;}#sk-container-id-3 div.sk-toggleable__content pre {margin: 0.2em;color: black;border-radius: 0.25em;background-color: #f0f8ff;}#sk-container-id-3 input.sk-toggleable__control:checked~div.sk-toggleable__content {max-height: 200px;max-width: 100%;overflow: auto;}#sk-container-id-3 input.sk-toggleable__control:checked~label.sk-toggleable__label-arrow:before {content: \"▾\";}#sk-container-id-3 div.sk-estimator input.sk-toggleable__control:checked~label.sk-toggleable__label {background-color: #d4ebff;}#sk-container-id-3 div.sk-label input.sk-toggleable__control:checked~label.sk-toggleable__label {background-color: #d4ebff;}#sk-container-id-3 input.sk-hidden--visually {border: 0;clip: rect(1px 1px 1px 1px);clip: rect(1px, 1px, 1px, 1px);height: 1px;margin: -1px;overflow: hidden;padding: 0;position: absolute;width: 1px;}#sk-container-id-3 div.sk-estimator {font-family: monospace;background-color: #f0f8ff;border: 1px dotted black;border-radius: 0.25em;box-sizing: border-box;margin-bottom: 0.5em;}#sk-container-id-3 div.sk-estimator:hover {background-color: #d4ebff;}#sk-container-id-3 div.sk-parallel-item::after {content: \"\";width: 100%;border-bottom: 1px solid gray;flex-grow: 1;}#sk-container-id-3 div.sk-label:hover label.sk-toggleable__label {background-color: #d4ebff;}#sk-container-id-3 div.sk-serial::before {content: \"\";position: absolute;border-left: 1px solid gray;box-sizing: border-box;top: 0;bottom: 0;left: 50%;z-index: 0;}#sk-container-id-3 div.sk-serial {display: flex;flex-direction: column;align-items: center;background-color: white;padding-right: 0.2em;padding-left: 0.2em;position: relative;}#sk-container-id-3 div.sk-item {position: relative;z-index: 1;}#sk-container-id-3 div.sk-parallel {display: flex;align-items: stretch;justify-content: center;background-color: white;position: relative;}#sk-container-id-3 div.sk-item::before, #sk-container-id-3 div.sk-parallel-item::before {content: \"\";position: absolute;border-left: 1px solid gray;box-sizing: border-box;top: 0;bottom: 0;left: 50%;z-index: -1;}#sk-container-id-3 div.sk-parallel-item {display: flex;flex-direction: column;z-index: 1;position: relative;background-color: white;}#sk-container-id-3 div.sk-parallel-item:first-child::after {align-self: flex-end;width: 50%;}#sk-container-id-3 div.sk-parallel-item:last-child::after {align-self: flex-start;width: 50%;}#sk-container-id-3 div.sk-parallel-item:only-child::after {width: 0;}#sk-container-id-3 div.sk-dashed-wrapped {border: 1px dashed gray;margin: 0 0.4em 0.5em 0.4em;box-sizing: border-box;padding-bottom: 0.4em;background-color: white;}#sk-container-id-3 div.sk-label label {font-family: monospace;font-weight: bold;display: inline-block;line-height: 1.2em;}#sk-container-id-3 div.sk-label-container {text-align: center;}#sk-container-id-3 div.sk-container {/* jupyter's `normalize.less` sets `[hidden] { display: none; }` but bootstrap.min.css set `[hidden] { display: none !important; }` so we also need the `!important` here to be able to override the default hidden behavior on the sphinx rendered scikit-learn.org. See: https://github.com/scikit-learn/scikit-learn/issues/21755 */display: inline-block !important;position: relative;}#sk-container-id-3 div.sk-text-repr-fallback {display: none;}</style><div id=\"sk-container-id-3\" class=\"sk-top-container\"><div class=\"sk-text-repr-fallback\"><pre>RandomForestClassifier(random_state=0)</pre><b>In a Jupyter environment, please rerun this cell to show the HTML representation or trust the notebook. <br />On GitHub, the HTML representation is unable to render, please try loading this page with nbviewer.org.</b></div><div class=\"sk-container\" hidden><div class=\"sk-item\"><div class=\"sk-estimator sk-toggleable\"><input class=\"sk-toggleable__control sk-hidden--visually\" id=\"sk-estimator-id-5\" type=\"checkbox\" checked><label for=\"sk-estimator-id-5\" class=\"sk-toggleable__label sk-toggleable__label-arrow\">RandomForestClassifier</label><div class=\"sk-toggleable__content\"><pre>RandomForestClassifier(random_state=0)</pre></div></div></div></div></div>"
      ],
      "text/plain": [
       "RandomForestClassifier(random_state=0)"
      ]
     },
     "execution_count": 42,
     "metadata": {},
     "output_type": "execute_result"
    }
   ],
   "source": [
    "rf=RandomForestClassifier(random_state=0)\n",
    "rf.fit(x_train,y_train)"
   ]
  },
  {
   "cell_type": "code",
   "execution_count": 43,
   "id": "e6051a3b",
   "metadata": {},
   "outputs": [
    {
     "data": {
      "text/plain": [
       "0.9042553191489362"
      ]
     },
     "execution_count": 43,
     "metadata": {},
     "output_type": "execute_result"
    }
   ],
   "source": [
    "y_pred_rf=rf.predict(x_test)\n",
    "accuracy_score(y_test,y_pred_rf)"
   ]
  },
  {
   "cell_type": "markdown",
   "id": "1793e99c",
   "metadata": {},
   "source": [
    "#### Apply hyperparameter tuning for parameter decision"
   ]
  },
  {
   "cell_type": "code",
   "execution_count": 44,
   "id": "8247fc2d",
   "metadata": {},
   "outputs": [],
   "source": [
    "from sklearn.model_selection import GridSearchCV"
   ]
  },
  {
   "cell_type": "code",
   "execution_count": 45,
   "id": "d61e6c40",
   "metadata": {},
   "outputs": [],
   "source": [
    "params={\n",
    "    'random_state':[0,1,2,3,5],\n",
    "    'n_estimators':[10,20,30,40,50,100],\n",
    "}    "
   ]
  },
  {
   "cell_type": "code",
   "execution_count": 54,
   "id": "1ceb09fb",
   "metadata": {},
   "outputs": [],
   "source": [
    "rf = RandomForestClassifier()\n",
    "grid = GridSearchCV(rf,param_grid=params, cv=6, \n",
    "                    scoring='accuracy')"
   ]
  },
  {
   "cell_type": "code",
   "execution_count": 55,
   "id": "1b6e08de",
   "metadata": {},
   "outputs": [
    {
     "data": {
      "text/html": [
       "<style>#sk-container-id-7 {color: black;background-color: white;}#sk-container-id-7 pre{padding: 0;}#sk-container-id-7 div.sk-toggleable {background-color: white;}#sk-container-id-7 label.sk-toggleable__label {cursor: pointer;display: block;width: 100%;margin-bottom: 0;padding: 0.3em;box-sizing: border-box;text-align: center;}#sk-container-id-7 label.sk-toggleable__label-arrow:before {content: \"▸\";float: left;margin-right: 0.25em;color: #696969;}#sk-container-id-7 label.sk-toggleable__label-arrow:hover:before {color: black;}#sk-container-id-7 div.sk-estimator:hover label.sk-toggleable__label-arrow:before {color: black;}#sk-container-id-7 div.sk-toggleable__content {max-height: 0;max-width: 0;overflow: hidden;text-align: left;background-color: #f0f8ff;}#sk-container-id-7 div.sk-toggleable__content pre {margin: 0.2em;color: black;border-radius: 0.25em;background-color: #f0f8ff;}#sk-container-id-7 input.sk-toggleable__control:checked~div.sk-toggleable__content {max-height: 200px;max-width: 100%;overflow: auto;}#sk-container-id-7 input.sk-toggleable__control:checked~label.sk-toggleable__label-arrow:before {content: \"▾\";}#sk-container-id-7 div.sk-estimator input.sk-toggleable__control:checked~label.sk-toggleable__label {background-color: #d4ebff;}#sk-container-id-7 div.sk-label input.sk-toggleable__control:checked~label.sk-toggleable__label {background-color: #d4ebff;}#sk-container-id-7 input.sk-hidden--visually {border: 0;clip: rect(1px 1px 1px 1px);clip: rect(1px, 1px, 1px, 1px);height: 1px;margin: -1px;overflow: hidden;padding: 0;position: absolute;width: 1px;}#sk-container-id-7 div.sk-estimator {font-family: monospace;background-color: #f0f8ff;border: 1px dotted black;border-radius: 0.25em;box-sizing: border-box;margin-bottom: 0.5em;}#sk-container-id-7 div.sk-estimator:hover {background-color: #d4ebff;}#sk-container-id-7 div.sk-parallel-item::after {content: \"\";width: 100%;border-bottom: 1px solid gray;flex-grow: 1;}#sk-container-id-7 div.sk-label:hover label.sk-toggleable__label {background-color: #d4ebff;}#sk-container-id-7 div.sk-serial::before {content: \"\";position: absolute;border-left: 1px solid gray;box-sizing: border-box;top: 0;bottom: 0;left: 50%;z-index: 0;}#sk-container-id-7 div.sk-serial {display: flex;flex-direction: column;align-items: center;background-color: white;padding-right: 0.2em;padding-left: 0.2em;position: relative;}#sk-container-id-7 div.sk-item {position: relative;z-index: 1;}#sk-container-id-7 div.sk-parallel {display: flex;align-items: stretch;justify-content: center;background-color: white;position: relative;}#sk-container-id-7 div.sk-item::before, #sk-container-id-7 div.sk-parallel-item::before {content: \"\";position: absolute;border-left: 1px solid gray;box-sizing: border-box;top: 0;bottom: 0;left: 50%;z-index: -1;}#sk-container-id-7 div.sk-parallel-item {display: flex;flex-direction: column;z-index: 1;position: relative;background-color: white;}#sk-container-id-7 div.sk-parallel-item:first-child::after {align-self: flex-end;width: 50%;}#sk-container-id-7 div.sk-parallel-item:last-child::after {align-self: flex-start;width: 50%;}#sk-container-id-7 div.sk-parallel-item:only-child::after {width: 0;}#sk-container-id-7 div.sk-dashed-wrapped {border: 1px dashed gray;margin: 0 0.4em 0.5em 0.4em;box-sizing: border-box;padding-bottom: 0.4em;background-color: white;}#sk-container-id-7 div.sk-label label {font-family: monospace;font-weight: bold;display: inline-block;line-height: 1.2em;}#sk-container-id-7 div.sk-label-container {text-align: center;}#sk-container-id-7 div.sk-container {/* jupyter's `normalize.less` sets `[hidden] { display: none; }` but bootstrap.min.css set `[hidden] { display: none !important; }` so we also need the `!important` here to be able to override the default hidden behavior on the sphinx rendered scikit-learn.org. See: https://github.com/scikit-learn/scikit-learn/issues/21755 */display: inline-block !important;position: relative;}#sk-container-id-7 div.sk-text-repr-fallback {display: none;}</style><div id=\"sk-container-id-7\" class=\"sk-top-container\"><div class=\"sk-text-repr-fallback\"><pre>GridSearchCV(cv=6, estimator=RandomForestClassifier(),\n",
       "             param_grid={&#x27;n_estimators&#x27;: [10, 20, 30, 40, 50, 100],\n",
       "                         &#x27;random_state&#x27;: [0, 1, 2, 3, 5]},\n",
       "             scoring=&#x27;accuracy&#x27;)</pre><b>In a Jupyter environment, please rerun this cell to show the HTML representation or trust the notebook. <br />On GitHub, the HTML representation is unable to render, please try loading this page with nbviewer.org.</b></div><div class=\"sk-container\" hidden><div class=\"sk-item sk-dashed-wrapped\"><div class=\"sk-label-container\"><div class=\"sk-label sk-toggleable\"><input class=\"sk-toggleable__control sk-hidden--visually\" id=\"sk-estimator-id-11\" type=\"checkbox\" ><label for=\"sk-estimator-id-11\" class=\"sk-toggleable__label sk-toggleable__label-arrow\">GridSearchCV</label><div class=\"sk-toggleable__content\"><pre>GridSearchCV(cv=6, estimator=RandomForestClassifier(),\n",
       "             param_grid={&#x27;n_estimators&#x27;: [10, 20, 30, 40, 50, 100],\n",
       "                         &#x27;random_state&#x27;: [0, 1, 2, 3, 5]},\n",
       "             scoring=&#x27;accuracy&#x27;)</pre></div></div></div><div class=\"sk-parallel\"><div class=\"sk-parallel-item\"><div class=\"sk-item\"><div class=\"sk-label-container\"><div class=\"sk-label sk-toggleable\"><input class=\"sk-toggleable__control sk-hidden--visually\" id=\"sk-estimator-id-12\" type=\"checkbox\" ><label for=\"sk-estimator-id-12\" class=\"sk-toggleable__label sk-toggleable__label-arrow\">estimator: RandomForestClassifier</label><div class=\"sk-toggleable__content\"><pre>RandomForestClassifier()</pre></div></div></div><div class=\"sk-serial\"><div class=\"sk-item\"><div class=\"sk-estimator sk-toggleable\"><input class=\"sk-toggleable__control sk-hidden--visually\" id=\"sk-estimator-id-13\" type=\"checkbox\" ><label for=\"sk-estimator-id-13\" class=\"sk-toggleable__label sk-toggleable__label-arrow\">RandomForestClassifier</label><div class=\"sk-toggleable__content\"><pre>RandomForestClassifier()</pre></div></div></div></div></div></div></div></div></div></div>"
      ],
      "text/plain": [
       "GridSearchCV(cv=6, estimator=RandomForestClassifier(),\n",
       "             param_grid={'n_estimators': [10, 20, 30, 40, 50, 100],\n",
       "                         'random_state': [0, 1, 2, 3, 5]},\n",
       "             scoring='accuracy')"
      ]
     },
     "execution_count": 55,
     "metadata": {},
     "output_type": "execute_result"
    }
   ],
   "source": [
    "grid.fit(x_train,y_train)"
   ]
  },
  {
   "cell_type": "code",
   "execution_count": 48,
   "id": "545de3a5",
   "metadata": {},
   "outputs": [],
   "source": [
    "y_pred=grid.predict(x_test)"
   ]
  },
  {
   "cell_type": "code",
   "execution_count": 49,
   "id": "5e2a5949",
   "metadata": {},
   "outputs": [
    {
     "data": {
      "text/plain": [
       "0.9042553191489362"
      ]
     },
     "execution_count": 49,
     "metadata": {},
     "output_type": "execute_result"
    }
   ],
   "source": [
    "accuracy_score(y_test,y_pred)"
   ]
  },
  {
   "cell_type": "code",
   "execution_count": 50,
   "id": "9275926d",
   "metadata": {},
   "outputs": [
    {
     "data": {
      "text/html": [
       "<style>#sk-container-id-5 {color: black;background-color: white;}#sk-container-id-5 pre{padding: 0;}#sk-container-id-5 div.sk-toggleable {background-color: white;}#sk-container-id-5 label.sk-toggleable__label {cursor: pointer;display: block;width: 100%;margin-bottom: 0;padding: 0.3em;box-sizing: border-box;text-align: center;}#sk-container-id-5 label.sk-toggleable__label-arrow:before {content: \"▸\";float: left;margin-right: 0.25em;color: #696969;}#sk-container-id-5 label.sk-toggleable__label-arrow:hover:before {color: black;}#sk-container-id-5 div.sk-estimator:hover label.sk-toggleable__label-arrow:before {color: black;}#sk-container-id-5 div.sk-toggleable__content {max-height: 0;max-width: 0;overflow: hidden;text-align: left;background-color: #f0f8ff;}#sk-container-id-5 div.sk-toggleable__content pre {margin: 0.2em;color: black;border-radius: 0.25em;background-color: #f0f8ff;}#sk-container-id-5 input.sk-toggleable__control:checked~div.sk-toggleable__content {max-height: 200px;max-width: 100%;overflow: auto;}#sk-container-id-5 input.sk-toggleable__control:checked~label.sk-toggleable__label-arrow:before {content: \"▾\";}#sk-container-id-5 div.sk-estimator input.sk-toggleable__control:checked~label.sk-toggleable__label {background-color: #d4ebff;}#sk-container-id-5 div.sk-label input.sk-toggleable__control:checked~label.sk-toggleable__label {background-color: #d4ebff;}#sk-container-id-5 input.sk-hidden--visually {border: 0;clip: rect(1px 1px 1px 1px);clip: rect(1px, 1px, 1px, 1px);height: 1px;margin: -1px;overflow: hidden;padding: 0;position: absolute;width: 1px;}#sk-container-id-5 div.sk-estimator {font-family: monospace;background-color: #f0f8ff;border: 1px dotted black;border-radius: 0.25em;box-sizing: border-box;margin-bottom: 0.5em;}#sk-container-id-5 div.sk-estimator:hover {background-color: #d4ebff;}#sk-container-id-5 div.sk-parallel-item::after {content: \"\";width: 100%;border-bottom: 1px solid gray;flex-grow: 1;}#sk-container-id-5 div.sk-label:hover label.sk-toggleable__label {background-color: #d4ebff;}#sk-container-id-5 div.sk-serial::before {content: \"\";position: absolute;border-left: 1px solid gray;box-sizing: border-box;top: 0;bottom: 0;left: 50%;z-index: 0;}#sk-container-id-5 div.sk-serial {display: flex;flex-direction: column;align-items: center;background-color: white;padding-right: 0.2em;padding-left: 0.2em;position: relative;}#sk-container-id-5 div.sk-item {position: relative;z-index: 1;}#sk-container-id-5 div.sk-parallel {display: flex;align-items: stretch;justify-content: center;background-color: white;position: relative;}#sk-container-id-5 div.sk-item::before, #sk-container-id-5 div.sk-parallel-item::before {content: \"\";position: absolute;border-left: 1px solid gray;box-sizing: border-box;top: 0;bottom: 0;left: 50%;z-index: -1;}#sk-container-id-5 div.sk-parallel-item {display: flex;flex-direction: column;z-index: 1;position: relative;background-color: white;}#sk-container-id-5 div.sk-parallel-item:first-child::after {align-self: flex-end;width: 50%;}#sk-container-id-5 div.sk-parallel-item:last-child::after {align-self: flex-start;width: 50%;}#sk-container-id-5 div.sk-parallel-item:only-child::after {width: 0;}#sk-container-id-5 div.sk-dashed-wrapped {border: 1px dashed gray;margin: 0 0.4em 0.5em 0.4em;box-sizing: border-box;padding-bottom: 0.4em;background-color: white;}#sk-container-id-5 div.sk-label label {font-family: monospace;font-weight: bold;display: inline-block;line-height: 1.2em;}#sk-container-id-5 div.sk-label-container {text-align: center;}#sk-container-id-5 div.sk-container {/* jupyter's `normalize.less` sets `[hidden] { display: none; }` but bootstrap.min.css set `[hidden] { display: none !important; }` so we also need the `!important` here to be able to override the default hidden behavior on the sphinx rendered scikit-learn.org. See: https://github.com/scikit-learn/scikit-learn/issues/21755 */display: inline-block !important;position: relative;}#sk-container-id-5 div.sk-text-repr-fallback {display: none;}</style><div id=\"sk-container-id-5\" class=\"sk-top-container\"><div class=\"sk-text-repr-fallback\"><pre>RandomForestClassifier(random_state=0)</pre><b>In a Jupyter environment, please rerun this cell to show the HTML representation or trust the notebook. <br />On GitHub, the HTML representation is unable to render, please try loading this page with nbviewer.org.</b></div><div class=\"sk-container\" hidden><div class=\"sk-item\"><div class=\"sk-estimator sk-toggleable\"><input class=\"sk-toggleable__control sk-hidden--visually\" id=\"sk-estimator-id-9\" type=\"checkbox\" checked><label for=\"sk-estimator-id-9\" class=\"sk-toggleable__label sk-toggleable__label-arrow\">RandomForestClassifier</label><div class=\"sk-toggleable__content\"><pre>RandomForestClassifier(random_state=0)</pre></div></div></div></div></div>"
      ],
      "text/plain": [
       "RandomForestClassifier(random_state=0)"
      ]
     },
     "execution_count": 50,
     "metadata": {},
     "output_type": "execute_result"
    }
   ],
   "source": [
    "grid.best_estimator_"
   ]
  },
  {
   "cell_type": "code",
   "execution_count": 51,
   "id": "df0c90d9",
   "metadata": {},
   "outputs": [
    {
     "data": {
      "text/html": [
       "<style>#sk-container-id-6 {color: black;background-color: white;}#sk-container-id-6 pre{padding: 0;}#sk-container-id-6 div.sk-toggleable {background-color: white;}#sk-container-id-6 label.sk-toggleable__label {cursor: pointer;display: block;width: 100%;margin-bottom: 0;padding: 0.3em;box-sizing: border-box;text-align: center;}#sk-container-id-6 label.sk-toggleable__label-arrow:before {content: \"▸\";float: left;margin-right: 0.25em;color: #696969;}#sk-container-id-6 label.sk-toggleable__label-arrow:hover:before {color: black;}#sk-container-id-6 div.sk-estimator:hover label.sk-toggleable__label-arrow:before {color: black;}#sk-container-id-6 div.sk-toggleable__content {max-height: 0;max-width: 0;overflow: hidden;text-align: left;background-color: #f0f8ff;}#sk-container-id-6 div.sk-toggleable__content pre {margin: 0.2em;color: black;border-radius: 0.25em;background-color: #f0f8ff;}#sk-container-id-6 input.sk-toggleable__control:checked~div.sk-toggleable__content {max-height: 200px;max-width: 100%;overflow: auto;}#sk-container-id-6 input.sk-toggleable__control:checked~label.sk-toggleable__label-arrow:before {content: \"▾\";}#sk-container-id-6 div.sk-estimator input.sk-toggleable__control:checked~label.sk-toggleable__label {background-color: #d4ebff;}#sk-container-id-6 div.sk-label input.sk-toggleable__control:checked~label.sk-toggleable__label {background-color: #d4ebff;}#sk-container-id-6 input.sk-hidden--visually {border: 0;clip: rect(1px 1px 1px 1px);clip: rect(1px, 1px, 1px, 1px);height: 1px;margin: -1px;overflow: hidden;padding: 0;position: absolute;width: 1px;}#sk-container-id-6 div.sk-estimator {font-family: monospace;background-color: #f0f8ff;border: 1px dotted black;border-radius: 0.25em;box-sizing: border-box;margin-bottom: 0.5em;}#sk-container-id-6 div.sk-estimator:hover {background-color: #d4ebff;}#sk-container-id-6 div.sk-parallel-item::after {content: \"\";width: 100%;border-bottom: 1px solid gray;flex-grow: 1;}#sk-container-id-6 div.sk-label:hover label.sk-toggleable__label {background-color: #d4ebff;}#sk-container-id-6 div.sk-serial::before {content: \"\";position: absolute;border-left: 1px solid gray;box-sizing: border-box;top: 0;bottom: 0;left: 50%;z-index: 0;}#sk-container-id-6 div.sk-serial {display: flex;flex-direction: column;align-items: center;background-color: white;padding-right: 0.2em;padding-left: 0.2em;position: relative;}#sk-container-id-6 div.sk-item {position: relative;z-index: 1;}#sk-container-id-6 div.sk-parallel {display: flex;align-items: stretch;justify-content: center;background-color: white;position: relative;}#sk-container-id-6 div.sk-item::before, #sk-container-id-6 div.sk-parallel-item::before {content: \"\";position: absolute;border-left: 1px solid gray;box-sizing: border-box;top: 0;bottom: 0;left: 50%;z-index: -1;}#sk-container-id-6 div.sk-parallel-item {display: flex;flex-direction: column;z-index: 1;position: relative;background-color: white;}#sk-container-id-6 div.sk-parallel-item:first-child::after {align-self: flex-end;width: 50%;}#sk-container-id-6 div.sk-parallel-item:last-child::after {align-self: flex-start;width: 50%;}#sk-container-id-6 div.sk-parallel-item:only-child::after {width: 0;}#sk-container-id-6 div.sk-dashed-wrapped {border: 1px dashed gray;margin: 0 0.4em 0.5em 0.4em;box-sizing: border-box;padding-bottom: 0.4em;background-color: white;}#sk-container-id-6 div.sk-label label {font-family: monospace;font-weight: bold;display: inline-block;line-height: 1.2em;}#sk-container-id-6 div.sk-label-container {text-align: center;}#sk-container-id-6 div.sk-container {/* jupyter's `normalize.less` sets `[hidden] { display: none; }` but bootstrap.min.css set `[hidden] { display: none !important; }` so we also need the `!important` here to be able to override the default hidden behavior on the sphinx rendered scikit-learn.org. See: https://github.com/scikit-learn/scikit-learn/issues/21755 */display: inline-block !important;position: relative;}#sk-container-id-6 div.sk-text-repr-fallback {display: none;}</style><div id=\"sk-container-id-6\" class=\"sk-top-container\"><div class=\"sk-text-repr-fallback\"><pre>RandomForestClassifier(random_state=0)</pre><b>In a Jupyter environment, please rerun this cell to show the HTML representation or trust the notebook. <br />On GitHub, the HTML representation is unable to render, please try loading this page with nbviewer.org.</b></div><div class=\"sk-container\" hidden><div class=\"sk-item\"><div class=\"sk-estimator sk-toggleable\"><input class=\"sk-toggleable__control sk-hidden--visually\" id=\"sk-estimator-id-10\" type=\"checkbox\" checked><label for=\"sk-estimator-id-10\" class=\"sk-toggleable__label sk-toggleable__label-arrow\">RandomForestClassifier</label><div class=\"sk-toggleable__content\"><pre>RandomForestClassifier(random_state=0)</pre></div></div></div></div></div>"
      ],
      "text/plain": [
       "RandomForestClassifier(random_state=0)"
      ]
     },
     "execution_count": 51,
     "metadata": {},
     "output_type": "execute_result"
    }
   ],
   "source": [
    "from sklearn.ensemble  import RandomForestClassifier\n",
    "rfc=RandomForestClassifier(random_state=0)\n",
    "rfc.fit(x_train,y_train)"
   ]
  },
  {
   "cell_type": "code",
   "execution_count": 52,
   "id": "4666eb25",
   "metadata": {},
   "outputs": [],
   "source": [
    "y_pred=rfc.predict(x_test)"
   ]
  },
  {
   "cell_type": "code",
   "execution_count": 53,
   "id": "a0c07c9e",
   "metadata": {},
   "outputs": [
    {
     "data": {
      "text/plain": [
       "0.9042553191489362"
      ]
     },
     "execution_count": 53,
     "metadata": {},
     "output_type": "execute_result"
    }
   ],
   "source": [
    "accuracy_score(y_test,y_pred)"
   ]
  },
  {
   "cell_type": "code",
   "execution_count": 56,
   "id": "c764281a",
   "metadata": {},
   "outputs": [],
   "source": [
    "from sklearn.metrics import accuracy_score, ConfusionMatrixDisplay\n"
   ]
  },
  {
   "cell_type": "code",
   "execution_count": 57,
   "id": "55b97d10",
   "metadata": {
    "scrolled": true
   },
   "outputs": [
    {
     "data": {
      "text/plain": [
       "<sklearn.metrics._plot.confusion_matrix.ConfusionMatrixDisplay at 0x292bf291850>"
      ]
     },
     "execution_count": 57,
     "metadata": {},
     "output_type": "execute_result"
    },
    {
     "data": {
      "image/png": "[encoded data removed]",
      "text/plain": [
       "<Figure size 640x480 with 2 Axes>"
      ]
     },
     "metadata": {},
     "output_type": "display_data"
    }
   ],
   "source": [
    "ConfusionMatrixDisplay.from_predictions(y_test,y_pred)"
   ]
  },
  {
   "cell_type": "code",
   "execution_count": 58,
   "id": "00a95d0e",
   "metadata": {},
   "outputs": [],
   "source": [
    "from sklearn.tree import DecisionTreeClassifier\n",
    "from sklearn.naive_bayes import GaussianNB\n",
    "from sklearn.ensemble import RandomForestClassifier\n",
    "from sklearn.linear_model import LogisticRegression\n",
    "from sklearn.neighbors import KNeighborsClassifier\n",
    "from sklearn.svm import SVC"
   ]
  },
  {
   "cell_type": "code",
   "execution_count": 60,
   "id": "f145e65a",
   "metadata": {},
   "outputs": [],
   "source": [
    "clf_log=LogisticRegression(random_state=0)\n",
    "clf_dt=DecisionTreeClassifier(random_state=0)\n",
    "clf_knn=KNeighborsClassifier(n_neighbors=5)\n",
    "clf_nb=GaussianNB()\n",
    "clf_svm=SVC(kernel='rbf',random_state=0)\n",
    "clf_rfr=RandomForestClassifier(random_state=0)"
   ]
  },
  {
   "cell_type": "code",
   "execution_count": 61,
   "id": "b00d1646",
   "metadata": {},
   "outputs": [],
   "source": [
    "clf_log.fit(x_train,y_train)\n",
    "clf_dt.fit(x_train,y_train)\n",
    "clf_knn.fit(x_train,y_train)\n",
    "clf_nb.fit(x_train,y_train)\n",
    "clf_svm.fit(x_train,y_train)\n",
    "clf_rfr.fit(x_train,y_train);"
   ]
  },
  {
   "cell_type": "code",
   "execution_count": 62,
   "id": "452152fe",
   "metadata": {},
   "outputs": [],
   "source": [
    "y_pred_log=clf_log.predict(x_test)\n",
    "y_pred_dt=clf_dt.predict(x_test)\n",
    "y_pred_knn=clf_knn.predict(x_test)\n",
    "y_pred_nb=clf_nb.predict(x_test)\n",
    "y_pred_svm=clf_svm.predict(x_test)\n",
    "y_pred_rfr=clf_rfr.predict(x_test)"
   ]
  },
  {
   "cell_type": "code",
   "execution_count": 63,
   "id": "d313b007",
   "metadata": {},
   "outputs": [
    {
     "name": "stdout",
     "output_type": "stream",
     "text": [
      "LogR 0.5719002201027146\n",
      "Dt 0.8294203961848863\n",
      "KNN: 0.667094644167278\n",
      "NB 0.5574101247248716\n",
      "SVM 0.6157373440939105\n",
      "RFR 0.9042553191489362\n"
     ]
    }
   ],
   "source": [
    "print('LogR',accuracy_score(y_test,y_pred_log))\n",
    "print('Dt',accuracy_score(y_test,y_pred_dt))\n",
    "print('KNN:',accuracy_score(y_test,y_pred_knn))\n",
    "print('NB',accuracy_score(y_test,y_pred_nb))\n",
    "print('SVM',accuracy_score(y_test,y_pred_svm))\n",
    "print('RFR',accuracy_score(y_test,y_pred_rfr))"
   ]
  },
  {
   "cell_type": "code",
   "execution_count": 64,
   "id": "d8d83e51",
   "metadata": {},
   "outputs": [],
   "source": [
    "from sklearn.ensemble import StackingClassifier,VotingClassifier\n",
    "stack=StackingClassifier(estimators=[('LogR',clf_log),\n",
    "                                 ('DT',clf_dt),\n",
    "                                 ('KNN',clf_knn),\n",
    "                                 ('NB',clf_nb),\n",
    "                                 ('SVM',clf_svm),\n",
    "                                   ('RFR',clf_rfr)\n",
    "                                ])\n"
   ]
  },
  {
   "cell_type": "code",
   "execution_count": 65,
   "id": "06c538cd",
   "metadata": {},
   "outputs": [
    {
     "data": {
      "text/html": [
       "<style>#sk-container-id-8 {color: black;background-color: white;}#sk-container-id-8 pre{padding: 0;}#sk-container-id-8 div.sk-toggleable {background-color: white;}#sk-container-id-8 label.sk-toggleable__label {cursor: pointer;display: block;width: 100%;margin-bottom: 0;padding: 0.3em;box-sizing: border-box;text-align: center;}#sk-container-id-8 label.sk-toggleable__label-arrow:before {content: \"▸\";float: left;margin-right: 0.25em;color: #696969;}#sk-container-id-8 label.sk-toggleable__label-arrow:hover:before {color: black;}#sk-container-id-8 div.sk-estimator:hover label.sk-toggleable__label-arrow:before {color: black;}#sk-container-id-8 div.sk-toggleable__content {max-height: 0;max-width: 0;overflow: hidden;text-align: left;background-color: #f0f8ff;}#sk-container-id-8 div.sk-toggleable__content pre {margin: 0.2em;color: black;border-radius: 0.25em;background-color: #f0f8ff;}#sk-container-id-8 input.sk-toggleable__control:checked~div.sk-toggleable__content {max-height: 200px;max-width: 100%;overflow: auto;}#sk-container-id-8 input.sk-toggleable__control:checked~label.sk-toggleable__label-arrow:before {content: \"▾\";}#sk-container-id-8 div.sk-estimator input.sk-toggleable__control:checked~label.sk-toggleable__label {background-color: #d4ebff;}#sk-container-id-8 div.sk-label input.sk-toggleable__control:checked~label.sk-toggleable__label {background-color: #d4ebff;}#sk-container-id-8 input.sk-hidden--visually {border: 0;clip: rect(1px 1px 1px 1px);clip: rect(1px, 1px, 1px, 1px);height: 1px;margin: -1px;overflow: hidden;padding: 0;position: absolute;width: 1px;}#sk-container-id-8 div.sk-estimator {font-family: monospace;background-color: #f0f8ff;border: 1px dotted black;border-radius: 0.25em;box-sizing: border-box;margin-bottom: 0.5em;}#sk-container-id-8 div.sk-estimator:hover {background-color: #d4ebff;}#sk-container-id-8 div.sk-parallel-item::after {content: \"\";width: 100%;border-bottom: 1px solid gray;flex-grow: 1;}#sk-container-id-8 div.sk-label:hover label.sk-toggleable__label {background-color: #d4ebff;}#sk-container-id-8 div.sk-serial::before {content: \"\";position: absolute;border-left: 1px solid gray;box-sizing: border-box;top: 0;bottom: 0;left: 50%;z-index: 0;}#sk-container-id-8 div.sk-serial {display: flex;flex-direction: column;align-items: center;background-color: white;padding-right: 0.2em;padding-left: 0.2em;position: relative;}#sk-container-id-8 div.sk-item {position: relative;z-index: 1;}#sk-container-id-8 div.sk-parallel {display: flex;align-items: stretch;justify-content: center;background-color: white;position: relative;}#sk-container-id-8 div.sk-item::before, #sk-container-id-8 div.sk-parallel-item::before {content: \"\";position: absolute;border-left: 1px solid gray;box-sizing: border-box;top: 0;bottom: 0;left: 50%;z-index: -1;}#sk-container-id-8 div.sk-parallel-item {display: flex;flex-direction: column;z-index: 1;position: relative;background-color: white;}#sk-container-id-8 div.sk-parallel-item:first-child::after {align-self: flex-end;width: 50%;}#sk-container-id-8 div.sk-parallel-item:last-child::after {align-self: flex-start;width: 50%;}#sk-container-id-8 div.sk-parallel-item:only-child::after {width: 0;}#sk-container-id-8 div.sk-dashed-wrapped {border: 1px dashed gray;margin: 0 0.4em 0.5em 0.4em;box-sizing: border-box;padding-bottom: 0.4em;background-color: white;}#sk-container-id-8 div.sk-label label {font-family: monospace;font-weight: bold;display: inline-block;line-height: 1.2em;}#sk-container-id-8 div.sk-label-container {text-align: center;}#sk-container-id-8 div.sk-container {/* jupyter's `normalize.less` sets `[hidden] { display: none; }` but bootstrap.min.css set `[hidden] { display: none !important; }` so we also need the `!important` here to be able to override the default hidden behavior on the sphinx rendered scikit-learn.org. See: https://github.com/scikit-learn/scikit-learn/issues/21755 */display: inline-block !important;position: relative;}#sk-container-id-8 div.sk-text-repr-fallback {display: none;}</style><div id=\"sk-container-id-8\" class=\"sk-top-container\"><div class=\"sk-text-repr-fallback\"><pre>StackingClassifier(estimators=[(&#x27;LogR&#x27;, LogisticRegression(random_state=0)),\n",
       "                               (&#x27;DT&#x27;, DecisionTreeClassifier(random_state=0)),\n",
       "                               (&#x27;KNN&#x27;, KNeighborsClassifier()),\n",
       "                               (&#x27;NB&#x27;, GaussianNB()),\n",
       "                               (&#x27;SVM&#x27;, SVC(random_state=0)),\n",
       "                               (&#x27;RFR&#x27;, RandomForestClassifier(random_state=0))])</pre><b>In a Jupyter environment, please rerun this cell to show the HTML representation or trust the notebook. <br />On GitHub, the HTML representation is unable to render, please try loading this page with nbviewer.org.</b></div><div class=\"sk-container\" hidden><div class=\"sk-item sk-dashed-wrapped\"><div class=\"sk-label-container\"><div class=\"sk-label sk-toggleable\"><input class=\"sk-toggleable__control sk-hidden--visually\" id=\"sk-estimator-id-14\" type=\"checkbox\" ><label for=\"sk-estimator-id-14\" class=\"sk-toggleable__label sk-toggleable__label-arrow\">StackingClassifier</label><div class=\"sk-toggleable__content\"><pre>StackingClassifier(estimators=[(&#x27;LogR&#x27;, LogisticRegression(random_state=0)),\n",
       "                               (&#x27;DT&#x27;, DecisionTreeClassifier(random_state=0)),\n",
       "                               (&#x27;KNN&#x27;, KNeighborsClassifier()),\n",
       "                               (&#x27;NB&#x27;, GaussianNB()),\n",
       "                               (&#x27;SVM&#x27;, SVC(random_state=0)),\n",
       "                               (&#x27;RFR&#x27;, RandomForestClassifier(random_state=0))])</pre></div></div></div><div class=\"sk-serial\"><div class=\"sk-item\"><div class=\"sk-parallel\"><div class=\"sk-parallel-item\"><div class=\"sk-item\"><div class=\"sk-label-container\"><div class=\"sk-label sk-toggleable\"><label>LogR</label></div></div><div class=\"sk-serial\"><div class=\"sk-item\"><div class=\"sk-estimator sk-toggleable\"><input class=\"sk-toggleable__control sk-hidden--visually\" id=\"sk-estimator-id-15\" type=\"checkbox\" ><label for=\"sk-estimator-id-15\" class=\"sk-toggleable__label sk-toggleable__label-arrow\">LogisticRegression</label><div class=\"sk-toggleable__content\"><pre>LogisticRegression(random_state=0)</pre></div></div></div></div></div></div><div class=\"sk-parallel-item\"><div class=\"sk-item\"><div class=\"sk-label-container\"><div class=\"sk-label sk-toggleable\"><label>DT</label></div></div><div class=\"sk-serial\"><div class=\"sk-item\"><div class=\"sk-estimator sk-toggleable\"><input class=\"sk-toggleable__control sk-hidden--visually\" id=\"sk-estimator-id-16\" type=\"checkbox\" ><label for=\"sk-estimator-id-16\" class=\"sk-toggleable__label sk-toggleable__label-arrow\">DecisionTreeClassifier</label><div class=\"sk-toggleable__content\"><pre>DecisionTreeClassifier(random_state=0)</pre></div></div></div></div></div></div><div class=\"sk-parallel-item\"><div class=\"sk-item\"><div class=\"sk-label-container\"><div class=\"sk-label sk-toggleable\"><label>KNN</label></div></div><div class=\"sk-serial\"><div class=\"sk-item\"><div class=\"sk-estimator sk-toggleable\"><input class=\"sk-toggleable__control sk-hidden--visually\" id=\"sk-estimator-id-17\" type=\"checkbox\" ><label for=\"sk-estimator-id-17\" class=\"sk-toggleable__label sk-toggleable__label-arrow\">KNeighborsClassifier</label><div class=\"sk-toggleable__content\"><pre>KNeighborsClassifier()</pre></div></div></div></div></div></div><div class=\"sk-parallel-item\"><div class=\"sk-item\"><div class=\"sk-label-container\"><div class=\"sk-label sk-toggleable\"><label>NB</label></div></div><div class=\"sk-serial\"><div class=\"sk-item\"><div class=\"sk-estimator sk-toggleable\"><input class=\"sk-toggleable__control sk-hidden--visually\" id=\"sk-estimator-id-18\" type=\"checkbox\" ><label for=\"sk-estimator-id-18\" class=\"sk-toggleable__label sk-toggleable__label-arrow\">GaussianNB</label><div class=\"sk-toggleable__content\"><pre>GaussianNB()</pre></div></div></div></div></div></div><div class=\"sk-parallel-item\"><div class=\"sk-item\"><div class=\"sk-label-container\"><div class=\"sk-label sk-toggleable\"><label>SVM</label></div></div><div class=\"sk-serial\"><div class=\"sk-item\"><div class=\"sk-estimator sk-toggleable\"><input class=\"sk-toggleable__control sk-hidden--visually\" id=\"sk-estimator-id-19\" type=\"checkbox\" ><label for=\"sk-estimator-id-19\" class=\"sk-toggleable__label sk-toggleable__label-arrow\">SVC</label><div class=\"sk-toggleable__content\"><pre>SVC(random_state=0)</pre></div></div></div></div></div></div><div class=\"sk-parallel-item\"><div class=\"sk-item\"><div class=\"sk-label-container\"><div class=\"sk-label sk-toggleable\"><label>RFR</label></div></div><div class=\"sk-serial\"><div class=\"sk-item\"><div class=\"sk-estimator sk-toggleable\"><input class=\"sk-toggleable__control sk-hidden--visually\" id=\"sk-estimator-id-20\" type=\"checkbox\" ><label for=\"sk-estimator-id-20\" class=\"sk-toggleable__label sk-toggleable__label-arrow\">RandomForestClassifier</label><div class=\"sk-toggleable__content\"><pre>RandomForestClassifier(random_state=0)</pre></div></div></div></div></div></div></div></div><div class=\"sk-item\"><div class=\"sk-parallel\"><div class=\"sk-parallel-item\"><div class=\"sk-item\"><div class=\"sk-label-container\"><div class=\"sk-label sk-toggleable\"><label>final_estimator</label></div></div><div class=\"sk-serial\"><div class=\"sk-item\"><div class=\"sk-estimator sk-toggleable\"><input class=\"sk-toggleable__control sk-hidden--visually\" id=\"sk-estimator-id-21\" type=\"checkbox\" ><label for=\"sk-estimator-id-21\" class=\"sk-toggleable__label sk-toggleable__label-arrow\">LogisticRegression</label><div class=\"sk-toggleable__content\"><pre>LogisticRegression()</pre></div></div></div></div></div></div></div></div></div></div></div></div>"
      ],
      "text/plain": [
       "StackingClassifier(estimators=[('LogR', LogisticRegression(random_state=0)),\n",
       "                               ('DT', DecisionTreeClassifier(random_state=0)),\n",
       "                               ('KNN', KNeighborsClassifier()),\n",
       "                               ('NB', GaussianNB()),\n",
       "                               ('SVM', SVC(random_state=0)),\n",
       "                               ('RFR', RandomForestClassifier(random_state=0))])"
      ]
     },
     "execution_count": 65,
     "metadata": {},
     "output_type": "execute_result"
    }
   ],
   "source": [
    "stack.fit(x_train,y_train)"
   ]
  },
  {
   "cell_type": "code",
   "execution_count": 66,
   "id": "cdb05909",
   "metadata": {},
   "outputs": [],
   "source": [
    "y_pred_stack=stack.predict(x_test)"
   ]
  },
  {
   "cell_type": "code",
   "execution_count": 67,
   "id": "6852ec83",
   "metadata": {},
   "outputs": [
    {
     "data": {
      "text/plain": [
       "0.9350696991929567"
      ]
     },
     "execution_count": 67,
     "metadata": {},
     "output_type": "execute_result"
    }
   ],
   "source": [
    "accuracy_score(y_test,y_pred_stack)"
   ]
  },
  {
   "cell_type": "code",
   "execution_count": null,
   "id": "64134347",
   "metadata": {},
   "outputs": [],
   "source": []
  }
 ],
 "metadata": {
  "kernelspec": {
   "display_name": "Python 3 (ipykernel)",
   "language": "python",
   "name": "python3"
  },
  "language_info": {
   "codemirror_mode": {
    "name": "ipython",
    "version": 3
   },
   "file_extension": ".py",
   "mimetype": "text/x-python",
   "name": "python",
   "nbconvert_exporter": "python",
   "pygments_lexer": "ipython3",
   "version": "3.11.5"
  }
 },
 "nbformat": 4,
 "nbformat_minor": 5
}
